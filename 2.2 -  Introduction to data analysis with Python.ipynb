{
  "cells": [
    {
      "cell_type": "markdown",
      "metadata": {
        "id": "Lcv4vX3rmkOD"
      },
      "source": [
        "# Introduction to data analysis with Python\n",
        "\n",
        "<img src=\"https://www.mrtfuelcell.polimi.it/images/logo_poli.jpg\" height=\"200\">\n",
        "<img src=\"https://upload.wikimedia.org/wikipedia/commons/f/f8/Python_logo_and_wordmark.svg\" height=\"150\">\n",
        "\n",
        "A2A ML Course - day 2 - 17/09/2024"
      ]
    },
    {
      "cell_type": "markdown",
      "metadata": {
        "id": "KdgQtGDVnPj5"
      },
      "source": [
        "## Outline\n",
        "\n",
        "1. Pandas\n",
        "    - What is `pandas`?\n",
        "    - Reading data with `pandas`\n",
        "    - Filtering data with `pandas`\n",
        "    - Descriptive statistics with `pandas`\n",
        "    - Cleaning data with `pandas`\n",
        "    - Grouping and sorting data in `pandas`\n",
        "\n",
        "2. Matplotlib\n",
        "    - What is `matplotlib`?\n",
        "    - Basic plotting with `matplotlib`\n",
        "    - Plot examples\n",
        "\n",
        "\n",
        "## Learning obejctives\n",
        "\n",
        "* Tabular data exploration in python\n",
        "* Basic syntax of `pandas` for manipulation and filtering of tabular data\n",
        "* Getting outtakes from data, finding the descriptive statistics\n",
        "* Understanding the plotting syntax and necessary data preprocessing  "
      ]
    },
    {
      "cell_type": "markdown",
      "metadata": {
        "id": "JhO-BD9MuJpt"
      },
      "source": [
        "## Pandas\n",
        "\n"
      ]
    },
    {
      "cell_type": "markdown",
      "metadata": {
        "id": "lysYRVAPxKSd"
      },
      "source": [
        "### What is `pandas`?\n",
        "\n",
        "<img src=\"https://github.com/maciej-sakwa/A2A_ML_course/blob/main/images/pandas.jpg?raw=true\" width=\"500\">\n",
        "\n",
        "When it comes to _data analysis_ in python there is no better place to start than **PANDAS**, and no, we unfortunately are not talking about the animals.\n",
        "\n",
        "Pandas (or **_pan_**-el **_da_**-ta) is the most common Python package used for extensive data manipulation in python. It has been designed to be used with **tabular data**. `pandas` is a very well maintained library with extensive documentation. If you ever need to better understand the ins and outs of any `pandas` function there is no better place to look than the official docs (available [with this link](https://pandas.pydata.org/docs/index.html)). \n",
        "\n",
        "Most of modern data scientists still rely on `pandas` for every day data analysis.\n",
        "\n",
        "*Some* modern data scientist want to be fancy and pretend to like `polars` more."
      ]
    },
    {
      "cell_type": "markdown",
      "metadata": {
        "id": "PNYntHB-yX06"
      },
      "source": [
        "To use `pandas` we have to first check if it is installed in our environment. Do it by running this cell:"
      ]
    },
    {
      "cell_type": "code",
      "execution_count": 1,
      "metadata": {
        "colab": {
          "base_uri": "https://localhost:8080/"
        },
        "id": "wH8qSwAoyLxr",
        "outputId": "27da58c2-22aa-4867-b756-06953d20a298"
      },
      "outputs": [
        {
          "name": "stderr",
          "output_type": "stream",
          "text": [
            "ERROR: Invalid requirement: '#'\n"
          ]
        }
      ],
      "source": [
        "!pip install pandas     # This also verifies other dependancies for pandas, such as numpy"
      ]
    },
    {
      "cell_type": "markdown",
      "metadata": {
        "id": "0R7wIVKjyp81"
      },
      "source": [
        "Next, we have to import the package to our environment. The common abbreviation for **pandas** is **pd**:"
      ]
    },
    {
      "cell_type": "code",
      "execution_count": 2,
      "metadata": {
        "id": "J40cJOPI3csq"
      },
      "outputs": [],
      "source": [
        "import pandas as pd"
      ]
    },
    {
      "cell_type": "markdown",
      "metadata": {
        "id": "5qRapoA35JNI"
      },
      "source": [
        "### Reading data with `pandas`\n",
        "\n",
        "Once we confirmed the pandas is up and running, we can import the data by using a built-in pandas function: `pd.read_csv()`. As you will notice during the course, **pandas** contains numerous cool and useful functions to handle tabular data.\n",
        "\n",
        "Let's load the data now and save it as `data` variable:"
      ]
    },
    {
      "cell_type": "code",
      "execution_count": 3,
      "metadata": {
        "id": "lyz26RMd4EAP"
      },
      "outputs": [],
      "source": [
        "data = pd.read_csv('https://nyc3.digitaloceanspaces.com/owid-public/data/energy/owid-energy-data.csv')"
      ]
    },
    {
      "cell_type": "markdown",
      "metadata": {
        "id": "gkgSYslIZNzS"
      },
      "source": [
        "The dataset has been published openly on **kaggle** (which is a gold mine for open-access datasets for learning) and can be accessed [with this link](https://www.kaggle.com/datasets/pralabhpoudel/world-energy-consumption)"
      ]
    },
    {
      "cell_type": "markdown",
      "metadata": {},
      "source": [
        "> **NB** Sometimes data does not come in nicely formatted csvs. `pandas` can access other file types with dedicated functions, such as `.read_excel()`, `.read_pickle()`, or even you can do SQL querries with `.read_sql_query()`. The possibilities are almost limitless. "
      ]
    },
    {
      "cell_type": "markdown",
      "metadata": {},
      "source": [
        "Similarly to other variables, you can examine the loaded dataset just by enering its name:"
      ]
    },
    {
      "cell_type": "code",
      "execution_count": 4,
      "metadata": {
        "colab": {
          "base_uri": "https://localhost:8080/",
          "height": 531
        },
        "id": "-uqMm-VK6LHV",
        "outputId": "bc9942ee-f7b6-4988-a8bf-231813019823"
      },
      "outputs": [
        {
          "data": {
            "text/html": [
              "<div>\n",
              "<style scoped>\n",
              "    .dataframe tbody tr th:only-of-type {\n",
              "        vertical-align: middle;\n",
              "    }\n",
              "\n",
              "    .dataframe tbody tr th {\n",
              "        vertical-align: top;\n",
              "    }\n",
              "\n",
              "    .dataframe thead th {\n",
              "        text-align: right;\n",
              "    }\n",
              "</style>\n",
              "<table border=\"1\" class=\"dataframe\">\n",
              "  <thead>\n",
              "    <tr style=\"text-align: right;\">\n",
              "      <th></th>\n",
              "      <th>country</th>\n",
              "      <th>year</th>\n",
              "      <th>iso_code</th>\n",
              "      <th>population</th>\n",
              "      <th>gdp</th>\n",
              "      <th>biofuel_cons_change_pct</th>\n",
              "      <th>biofuel_cons_change_twh</th>\n",
              "      <th>biofuel_cons_per_capita</th>\n",
              "      <th>biofuel_consumption</th>\n",
              "      <th>biofuel_elec_per_capita</th>\n",
              "      <th>...</th>\n",
              "      <th>solar_share_elec</th>\n",
              "      <th>solar_share_energy</th>\n",
              "      <th>wind_cons_change_pct</th>\n",
              "      <th>wind_cons_change_twh</th>\n",
              "      <th>wind_consumption</th>\n",
              "      <th>wind_elec_per_capita</th>\n",
              "      <th>wind_electricity</th>\n",
              "      <th>wind_energy_per_capita</th>\n",
              "      <th>wind_share_elec</th>\n",
              "      <th>wind_share_energy</th>\n",
              "    </tr>\n",
              "  </thead>\n",
              "  <tbody>\n",
              "    <tr>\n",
              "      <th>0</th>\n",
              "      <td>ASEAN (Ember)</td>\n",
              "      <td>2000</td>\n",
              "      <td>NaN</td>\n",
              "      <td>NaN</td>\n",
              "      <td>NaN</td>\n",
              "      <td>NaN</td>\n",
              "      <td>NaN</td>\n",
              "      <td>NaN</td>\n",
              "      <td>NaN</td>\n",
              "      <td>NaN</td>\n",
              "      <td>...</td>\n",
              "      <td>0.000</td>\n",
              "      <td>NaN</td>\n",
              "      <td>NaN</td>\n",
              "      <td>NaN</td>\n",
              "      <td>NaN</td>\n",
              "      <td>NaN</td>\n",
              "      <td>0.0</td>\n",
              "      <td>NaN</td>\n",
              "      <td>0.0</td>\n",
              "      <td>NaN</td>\n",
              "    </tr>\n",
              "    <tr>\n",
              "      <th>1</th>\n",
              "      <td>ASEAN (Ember)</td>\n",
              "      <td>2001</td>\n",
              "      <td>NaN</td>\n",
              "      <td>NaN</td>\n",
              "      <td>NaN</td>\n",
              "      <td>NaN</td>\n",
              "      <td>NaN</td>\n",
              "      <td>NaN</td>\n",
              "      <td>NaN</td>\n",
              "      <td>NaN</td>\n",
              "      <td>...</td>\n",
              "      <td>0.000</td>\n",
              "      <td>NaN</td>\n",
              "      <td>NaN</td>\n",
              "      <td>NaN</td>\n",
              "      <td>NaN</td>\n",
              "      <td>NaN</td>\n",
              "      <td>0.0</td>\n",
              "      <td>NaN</td>\n",
              "      <td>0.0</td>\n",
              "      <td>NaN</td>\n",
              "    </tr>\n",
              "    <tr>\n",
              "      <th>2</th>\n",
              "      <td>ASEAN (Ember)</td>\n",
              "      <td>2002</td>\n",
              "      <td>NaN</td>\n",
              "      <td>NaN</td>\n",
              "      <td>NaN</td>\n",
              "      <td>NaN</td>\n",
              "      <td>NaN</td>\n",
              "      <td>NaN</td>\n",
              "      <td>NaN</td>\n",
              "      <td>NaN</td>\n",
              "      <td>...</td>\n",
              "      <td>0.000</td>\n",
              "      <td>NaN</td>\n",
              "      <td>NaN</td>\n",
              "      <td>NaN</td>\n",
              "      <td>NaN</td>\n",
              "      <td>NaN</td>\n",
              "      <td>0.0</td>\n",
              "      <td>NaN</td>\n",
              "      <td>0.0</td>\n",
              "      <td>NaN</td>\n",
              "    </tr>\n",
              "    <tr>\n",
              "      <th>3</th>\n",
              "      <td>ASEAN (Ember)</td>\n",
              "      <td>2003</td>\n",
              "      <td>NaN</td>\n",
              "      <td>NaN</td>\n",
              "      <td>NaN</td>\n",
              "      <td>NaN</td>\n",
              "      <td>NaN</td>\n",
              "      <td>NaN</td>\n",
              "      <td>NaN</td>\n",
              "      <td>NaN</td>\n",
              "      <td>...</td>\n",
              "      <td>0.000</td>\n",
              "      <td>NaN</td>\n",
              "      <td>NaN</td>\n",
              "      <td>NaN</td>\n",
              "      <td>NaN</td>\n",
              "      <td>NaN</td>\n",
              "      <td>0.0</td>\n",
              "      <td>NaN</td>\n",
              "      <td>0.0</td>\n",
              "      <td>NaN</td>\n",
              "    </tr>\n",
              "    <tr>\n",
              "      <th>4</th>\n",
              "      <td>ASEAN (Ember)</td>\n",
              "      <td>2004</td>\n",
              "      <td>NaN</td>\n",
              "      <td>NaN</td>\n",
              "      <td>NaN</td>\n",
              "      <td>NaN</td>\n",
              "      <td>NaN</td>\n",
              "      <td>NaN</td>\n",
              "      <td>NaN</td>\n",
              "      <td>NaN</td>\n",
              "      <td>...</td>\n",
              "      <td>0.000</td>\n",
              "      <td>NaN</td>\n",
              "      <td>NaN</td>\n",
              "      <td>NaN</td>\n",
              "      <td>NaN</td>\n",
              "      <td>NaN</td>\n",
              "      <td>0.0</td>\n",
              "      <td>NaN</td>\n",
              "      <td>0.0</td>\n",
              "      <td>NaN</td>\n",
              "    </tr>\n",
              "    <tr>\n",
              "      <th>...</th>\n",
              "      <td>...</td>\n",
              "      <td>...</td>\n",
              "      <td>...</td>\n",
              "      <td>...</td>\n",
              "      <td>...</td>\n",
              "      <td>...</td>\n",
              "      <td>...</td>\n",
              "      <td>...</td>\n",
              "      <td>...</td>\n",
              "      <td>...</td>\n",
              "      <td>...</td>\n",
              "      <td>...</td>\n",
              "      <td>...</td>\n",
              "      <td>...</td>\n",
              "      <td>...</td>\n",
              "      <td>...</td>\n",
              "      <td>...</td>\n",
              "      <td>...</td>\n",
              "      <td>...</td>\n",
              "      <td>...</td>\n",
              "      <td>...</td>\n",
              "    </tr>\n",
              "    <tr>\n",
              "      <th>21807</th>\n",
              "      <td>Zimbabwe</td>\n",
              "      <td>2019</td>\n",
              "      <td>ZWE</td>\n",
              "      <td>15354606.0</td>\n",
              "      <td>2.514642e+10</td>\n",
              "      <td>NaN</td>\n",
              "      <td>NaN</td>\n",
              "      <td>NaN</td>\n",
              "      <td>NaN</td>\n",
              "      <td>12.374</td>\n",
              "      <td>...</td>\n",
              "      <td>0.353</td>\n",
              "      <td>NaN</td>\n",
              "      <td>NaN</td>\n",
              "      <td>NaN</td>\n",
              "      <td>NaN</td>\n",
              "      <td>0.0</td>\n",
              "      <td>0.0</td>\n",
              "      <td>NaN</td>\n",
              "      <td>0.0</td>\n",
              "      <td>NaN</td>\n",
              "    </tr>\n",
              "    <tr>\n",
              "      <th>21808</th>\n",
              "      <td>Zimbabwe</td>\n",
              "      <td>2020</td>\n",
              "      <td>ZWE</td>\n",
              "      <td>15669663.0</td>\n",
              "      <td>2.317871e+10</td>\n",
              "      <td>NaN</td>\n",
              "      <td>NaN</td>\n",
              "      <td>NaN</td>\n",
              "      <td>NaN</td>\n",
              "      <td>6.382</td>\n",
              "      <td>...</td>\n",
              "      <td>0.298</td>\n",
              "      <td>NaN</td>\n",
              "      <td>NaN</td>\n",
              "      <td>NaN</td>\n",
              "      <td>NaN</td>\n",
              "      <td>0.0</td>\n",
              "      <td>0.0</td>\n",
              "      <td>NaN</td>\n",
              "      <td>0.0</td>\n",
              "      <td>NaN</td>\n",
              "    </tr>\n",
              "    <tr>\n",
              "      <th>21809</th>\n",
              "      <td>Zimbabwe</td>\n",
              "      <td>2021</td>\n",
              "      <td>ZWE</td>\n",
              "      <td>15993525.0</td>\n",
              "      <td>2.514009e+10</td>\n",
              "      <td>NaN</td>\n",
              "      <td>NaN</td>\n",
              "      <td>NaN</td>\n",
              "      <td>NaN</td>\n",
              "      <td>0.000</td>\n",
              "      <td>...</td>\n",
              "      <td>0.236</td>\n",
              "      <td>NaN</td>\n",
              "      <td>NaN</td>\n",
              "      <td>NaN</td>\n",
              "      <td>NaN</td>\n",
              "      <td>0.0</td>\n",
              "      <td>0.0</td>\n",
              "      <td>NaN</td>\n",
              "      <td>0.0</td>\n",
              "      <td>NaN</td>\n",
              "    </tr>\n",
              "    <tr>\n",
              "      <th>21810</th>\n",
              "      <td>Zimbabwe</td>\n",
              "      <td>2022</td>\n",
              "      <td>ZWE</td>\n",
              "      <td>16320539.0</td>\n",
              "      <td>2.590159e+10</td>\n",
              "      <td>NaN</td>\n",
              "      <td>NaN</td>\n",
              "      <td>NaN</td>\n",
              "      <td>NaN</td>\n",
              "      <td>6.127</td>\n",
              "      <td>...</td>\n",
              "      <td>0.336</td>\n",
              "      <td>NaN</td>\n",
              "      <td>NaN</td>\n",
              "      <td>NaN</td>\n",
              "      <td>NaN</td>\n",
              "      <td>0.0</td>\n",
              "      <td>0.0</td>\n",
              "      <td>NaN</td>\n",
              "      <td>0.0</td>\n",
              "      <td>NaN</td>\n",
              "    </tr>\n",
              "    <tr>\n",
              "      <th>21811</th>\n",
              "      <td>Zimbabwe</td>\n",
              "      <td>2023</td>\n",
              "      <td>ZWE</td>\n",
              "      <td>16665407.0</td>\n",
              "      <td>NaN</td>\n",
              "      <td>NaN</td>\n",
              "      <td>NaN</td>\n",
              "      <td>NaN</td>\n",
              "      <td>NaN</td>\n",
              "      <td>NaN</td>\n",
              "      <td>...</td>\n",
              "      <td>NaN</td>\n",
              "      <td>NaN</td>\n",
              "      <td>NaN</td>\n",
              "      <td>NaN</td>\n",
              "      <td>NaN</td>\n",
              "      <td>NaN</td>\n",
              "      <td>NaN</td>\n",
              "      <td>NaN</td>\n",
              "      <td>NaN</td>\n",
              "      <td>NaN</td>\n",
              "    </tr>\n",
              "  </tbody>\n",
              "</table>\n",
              "<p>21812 rows × 129 columns</p>\n",
              "</div>"
            ],
            "text/plain": [
              "             country  year iso_code  population           gdp  \\\n",
              "0      ASEAN (Ember)  2000      NaN         NaN           NaN   \n",
              "1      ASEAN (Ember)  2001      NaN         NaN           NaN   \n",
              "2      ASEAN (Ember)  2002      NaN         NaN           NaN   \n",
              "3      ASEAN (Ember)  2003      NaN         NaN           NaN   \n",
              "4      ASEAN (Ember)  2004      NaN         NaN           NaN   \n",
              "...              ...   ...      ...         ...           ...   \n",
              "21807       Zimbabwe  2019      ZWE  15354606.0  2.514642e+10   \n",
              "21808       Zimbabwe  2020      ZWE  15669663.0  2.317871e+10   \n",
              "21809       Zimbabwe  2021      ZWE  15993525.0  2.514009e+10   \n",
              "21810       Zimbabwe  2022      ZWE  16320539.0  2.590159e+10   \n",
              "21811       Zimbabwe  2023      ZWE  16665407.0           NaN   \n",
              "\n",
              "       biofuel_cons_change_pct  biofuel_cons_change_twh  \\\n",
              "0                          NaN                      NaN   \n",
              "1                          NaN                      NaN   \n",
              "2                          NaN                      NaN   \n",
              "3                          NaN                      NaN   \n",
              "4                          NaN                      NaN   \n",
              "...                        ...                      ...   \n",
              "21807                      NaN                      NaN   \n",
              "21808                      NaN                      NaN   \n",
              "21809                      NaN                      NaN   \n",
              "21810                      NaN                      NaN   \n",
              "21811                      NaN                      NaN   \n",
              "\n",
              "       biofuel_cons_per_capita  biofuel_consumption  biofuel_elec_per_capita  \\\n",
              "0                          NaN                  NaN                      NaN   \n",
              "1                          NaN                  NaN                      NaN   \n",
              "2                          NaN                  NaN                      NaN   \n",
              "3                          NaN                  NaN                      NaN   \n",
              "4                          NaN                  NaN                      NaN   \n",
              "...                        ...                  ...                      ...   \n",
              "21807                      NaN                  NaN                   12.374   \n",
              "21808                      NaN                  NaN                    6.382   \n",
              "21809                      NaN                  NaN                    0.000   \n",
              "21810                      NaN                  NaN                    6.127   \n",
              "21811                      NaN                  NaN                      NaN   \n",
              "\n",
              "       ...  solar_share_elec  solar_share_energy  wind_cons_change_pct  \\\n",
              "0      ...             0.000                 NaN                   NaN   \n",
              "1      ...             0.000                 NaN                   NaN   \n",
              "2      ...             0.000                 NaN                   NaN   \n",
              "3      ...             0.000                 NaN                   NaN   \n",
              "4      ...             0.000                 NaN                   NaN   \n",
              "...    ...               ...                 ...                   ...   \n",
              "21807  ...             0.353                 NaN                   NaN   \n",
              "21808  ...             0.298                 NaN                   NaN   \n",
              "21809  ...             0.236                 NaN                   NaN   \n",
              "21810  ...             0.336                 NaN                   NaN   \n",
              "21811  ...               NaN                 NaN                   NaN   \n",
              "\n",
              "       wind_cons_change_twh  wind_consumption  wind_elec_per_capita  \\\n",
              "0                       NaN               NaN                   NaN   \n",
              "1                       NaN               NaN                   NaN   \n",
              "2                       NaN               NaN                   NaN   \n",
              "3                       NaN               NaN                   NaN   \n",
              "4                       NaN               NaN                   NaN   \n",
              "...                     ...               ...                   ...   \n",
              "21807                   NaN               NaN                   0.0   \n",
              "21808                   NaN               NaN                   0.0   \n",
              "21809                   NaN               NaN                   0.0   \n",
              "21810                   NaN               NaN                   0.0   \n",
              "21811                   NaN               NaN                   NaN   \n",
              "\n",
              "       wind_electricity  wind_energy_per_capita  wind_share_elec  \\\n",
              "0                   0.0                     NaN              0.0   \n",
              "1                   0.0                     NaN              0.0   \n",
              "2                   0.0                     NaN              0.0   \n",
              "3                   0.0                     NaN              0.0   \n",
              "4                   0.0                     NaN              0.0   \n",
              "...                 ...                     ...              ...   \n",
              "21807               0.0                     NaN              0.0   \n",
              "21808               0.0                     NaN              0.0   \n",
              "21809               0.0                     NaN              0.0   \n",
              "21810               0.0                     NaN              0.0   \n",
              "21811               NaN                     NaN              NaN   \n",
              "\n",
              "       wind_share_energy  \n",
              "0                    NaN  \n",
              "1                    NaN  \n",
              "2                    NaN  \n",
              "3                    NaN  \n",
              "4                    NaN  \n",
              "...                  ...  \n",
              "21807                NaN  \n",
              "21808                NaN  \n",
              "21809                NaN  \n",
              "21810                NaN  \n",
              "21811                NaN  \n",
              "\n",
              "[21812 rows x 129 columns]"
            ]
          },
          "execution_count": 4,
          "metadata": {},
          "output_type": "execute_result"
        }
      ],
      "source": [
        "data"
      ]
    },
    {
      "cell_type": "markdown",
      "metadata": {
        "id": "lgpG7VBo6DBI"
      },
      "source": [
        "> **NB** This functionality only works in notebooks!\n",
        "\n",
        "We can examine the top 5 rows of the dataset by calling `data.head()` or the bottom 5 rows by calling `data.tail()`. Use the empty cell below and try it out!"
      ]
    },
    {
      "cell_type": "code",
      "execution_count": 5,
      "metadata": {},
      "outputs": [],
      "source": [
        "# test the .head() and .tail() functions here"
      ]
    },
    {
      "cell_type": "markdown",
      "metadata": {
        "id": "76qvFmydC3Y_"
      },
      "source": [
        "You can check the shape of the dataset by entering `data.shape` command. The loaded dataset has 22012 rows and 129 columns."
      ]
    },
    {
      "cell_type": "code",
      "execution_count": 6,
      "metadata": {
        "colab": {
          "base_uri": "https://localhost:8080/"
        },
        "id": "Vuv0e1n46TGP",
        "outputId": "9c550e5d-a05c-4fe0-c278-7c0cc35e1610"
      },
      "outputs": [
        {
          "data": {
            "text/plain": [
              "(21812, 129)"
            ]
          },
          "execution_count": 6,
          "metadata": {},
          "output_type": "execute_result"
        }
      ],
      "source": [
        "data.shape"
      ]
    },
    {
      "cell_type": "markdown",
      "metadata": {
        "id": "3OvcGY_aDQLX"
      },
      "source": [
        "To check the names of the columns we can use `data.columns`"
      ]
    },
    {
      "cell_type": "code",
      "execution_count": 7,
      "metadata": {
        "colab": {
          "base_uri": "https://localhost:8080/"
        },
        "id": "uY7qJDEO6hsb",
        "outputId": "433b57ba-54c2-46ed-87b6-e4a1ab89f98b"
      },
      "outputs": [
        {
          "data": {
            "text/plain": [
              "Index(['country', 'year', 'iso_code', 'population', 'gdp',\n",
              "       'biofuel_cons_change_pct', 'biofuel_cons_change_twh',\n",
              "       'biofuel_cons_per_capita', 'biofuel_consumption',\n",
              "       'biofuel_elec_per_capita',\n",
              "       ...\n",
              "       'solar_share_elec', 'solar_share_energy', 'wind_cons_change_pct',\n",
              "       'wind_cons_change_twh', 'wind_consumption', 'wind_elec_per_capita',\n",
              "       'wind_electricity', 'wind_energy_per_capita', 'wind_share_elec',\n",
              "       'wind_share_energy'],\n",
              "      dtype='object', length=129)"
            ]
          },
          "execution_count": 7,
          "metadata": {},
          "output_type": "execute_result"
        }
      ],
      "source": [
        "data.columns  # add \".to_list()\" to convert the output to a list and see all the names in the output"
      ]
    },
    {
      "cell_type": "markdown",
      "metadata": {
        "id": "KuI280NW4qlT"
      },
      "source": [
        "The technical name for table data in `pandas` is **data frame**. Moreover, a single column from a **data frame** is called a **series**. Let's add it to our dictionary:\n",
        "\n",
        "| Informal EN | Informale IT | Technical | Description |\n",
        "| --- | --- | --- | --- |\n",
        "| File/Code | Codice | Script, source | A file of python commands which can be run directly |\n",
        "| Folder | Cartella | Directory | Location on a computer |\n",
        "| Run | Girare | Execute | Read and act on each line of python code |\n",
        "| Program (python) | App (pitone) | Interpreter (python) | The program which compiles and runs python code on a computer |\n",
        "| Notebook | Notebook | Jupyter Notebook | Document containing both executable code and rich text |\n",
        "| Is | È | Assignment | Saving data in a variable |\n",
        "| Error | Errore | Exception | The reason why a code couldn't run |\n",
        "| -- | -- | Type | Python objects always have a type, like a list or float |\n",
        "| -- | -- | Object | A data type which contains both data and code |\n",
        "| -- | -- | Function | Selection of code that can be run simply by calling the function name |\n",
        "| -- | -- | Class | A use-defined object type which contains both data and code (methods) |\n",
        "| -- | -- | Method | A function inside a class |\n",
        "| -- | -- | Initialize | Create a new object from a class |\n",
        "| -- | -- | Environment |\n",
        "| -- | -- | Module | A code file which isn't run directly but is imported into your main script |\n",
        "| -- | -- | Package | A folder containing many related modules, like `tensorflow` |\n",
        "| -- | -- | Library | Usually refers to the set of packages used for a particular application |\n",
        "| **Table** | **Tabella** | **Data Frame** | **Tabular data representation in Pandas** |\n",
        "| **Column** | **Colonna** | **Series** | **A singular column extracted from a Data Frame** |\n",
        "\n",
        "\n",
        "<br>\n",
        "\n",
        "> **NB** using technical jargon from the previous seminar, both the data frame and the series are examples of python classes."
      ]
    },
    {
      "cell_type": "markdown",
      "metadata": {
        "id": "H-U0xUft27bU"
      },
      "source": [
        "### Filtering data with `pandas`\n",
        "\n",
        "Sometimes there is just too much data. To better focus on pieces that we want to analyse we have to **filter** it. As you might have guessed, with `pandas` you can do it easily. Another advantage to filtering is that your data will ocupy less space, and therefore will become much easier to handle for your PC too. However, with the sizes we are dealing with now, this isn't something we should worry about."
      ]
    },
    {
      "cell_type": "markdown",
      "metadata": {},
      "source": [
        "There are three main ways to perform data extraction and filtering in `pandas`:\n",
        "\n",
        "1. The dot syntax\n",
        "2. Square brackets\n",
        "3. `.loc[]`, and `.iloc[]` methods\n",
        "\n",
        "> **NB** The `.loc[]` slicing method takes two arguments: first the rows that you want to get and second the columns, e.g. `.loc[rows, columns]`. If we want to keep all of the rows (or columns) we have to insert `:`."
      ]
    },
    {
      "cell_type": "code",
      "execution_count": 8,
      "metadata": {},
      "outputs": [],
      "source": [
        "# try it out here"
      ]
    },
    {
      "cell_type": "markdown",
      "metadata": {
        "id": "mYTewb9Y9wBb"
      },
      "source": [
        "For simplicity, in the rest of the course we will use the square brackets syntax.\n",
        "\n",
        "If one column is not enough, you can pass a list of names:"
      ]
    },
    {
      "cell_type": "code",
      "execution_count": 9,
      "metadata": {
        "colab": {
          "base_uri": "https://localhost:8080/",
          "height": 423
        },
        "id": "dwYrJ86a6cvS",
        "outputId": "3f2446b8-6cee-455d-e217-10bdd520b8f0"
      },
      "outputs": [
        {
          "data": {
            "text/html": [
              "<div>\n",
              "<style scoped>\n",
              "    .dataframe tbody tr th:only-of-type {\n",
              "        vertical-align: middle;\n",
              "    }\n",
              "\n",
              "    .dataframe tbody tr th {\n",
              "        vertical-align: top;\n",
              "    }\n",
              "\n",
              "    .dataframe thead th {\n",
              "        text-align: right;\n",
              "    }\n",
              "</style>\n",
              "<table border=\"1\" class=\"dataframe\">\n",
              "  <thead>\n",
              "    <tr style=\"text-align: right;\">\n",
              "      <th></th>\n",
              "      <th>country</th>\n",
              "      <th>year</th>\n",
              "      <th>gdp</th>\n",
              "      <th>population</th>\n",
              "      <th>electricity_generation</th>\n",
              "    </tr>\n",
              "  </thead>\n",
              "  <tbody>\n",
              "    <tr>\n",
              "      <th>0</th>\n",
              "      <td>ASEAN (Ember)</td>\n",
              "      <td>2000</td>\n",
              "      <td>NaN</td>\n",
              "      <td>NaN</td>\n",
              "      <td>378.61</td>\n",
              "    </tr>\n",
              "    <tr>\n",
              "      <th>1</th>\n",
              "      <td>ASEAN (Ember)</td>\n",
              "      <td>2001</td>\n",
              "      <td>NaN</td>\n",
              "      <td>NaN</td>\n",
              "      <td>404.85</td>\n",
              "    </tr>\n",
              "    <tr>\n",
              "      <th>2</th>\n",
              "      <td>ASEAN (Ember)</td>\n",
              "      <td>2002</td>\n",
              "      <td>NaN</td>\n",
              "      <td>NaN</td>\n",
              "      <td>433.19</td>\n",
              "    </tr>\n",
              "    <tr>\n",
              "      <th>3</th>\n",
              "      <td>ASEAN (Ember)</td>\n",
              "      <td>2003</td>\n",
              "      <td>NaN</td>\n",
              "      <td>NaN</td>\n",
              "      <td>458.24</td>\n",
              "    </tr>\n",
              "    <tr>\n",
              "      <th>4</th>\n",
              "      <td>ASEAN (Ember)</td>\n",
              "      <td>2004</td>\n",
              "      <td>NaN</td>\n",
              "      <td>NaN</td>\n",
              "      <td>496.56</td>\n",
              "    </tr>\n",
              "    <tr>\n",
              "      <th>...</th>\n",
              "      <td>...</td>\n",
              "      <td>...</td>\n",
              "      <td>...</td>\n",
              "      <td>...</td>\n",
              "      <td>...</td>\n",
              "    </tr>\n",
              "    <tr>\n",
              "      <th>21807</th>\n",
              "      <td>Zimbabwe</td>\n",
              "      <td>2019</td>\n",
              "      <td>2.514642e+10</td>\n",
              "      <td>15354606.0</td>\n",
              "      <td>8.49</td>\n",
              "    </tr>\n",
              "    <tr>\n",
              "      <th>21808</th>\n",
              "      <td>Zimbabwe</td>\n",
              "      <td>2020</td>\n",
              "      <td>2.317871e+10</td>\n",
              "      <td>15669663.0</td>\n",
              "      <td>6.71</td>\n",
              "    </tr>\n",
              "    <tr>\n",
              "      <th>21809</th>\n",
              "      <td>Zimbabwe</td>\n",
              "      <td>2021</td>\n",
              "      <td>2.514009e+10</td>\n",
              "      <td>15993525.0</td>\n",
              "      <td>8.46</td>\n",
              "    </tr>\n",
              "    <tr>\n",
              "      <th>21810</th>\n",
              "      <td>Zimbabwe</td>\n",
              "      <td>2022</td>\n",
              "      <td>2.590159e+10</td>\n",
              "      <td>16320539.0</td>\n",
              "      <td>8.93</td>\n",
              "    </tr>\n",
              "    <tr>\n",
              "      <th>21811</th>\n",
              "      <td>Zimbabwe</td>\n",
              "      <td>2023</td>\n",
              "      <td>NaN</td>\n",
              "      <td>16665407.0</td>\n",
              "      <td>NaN</td>\n",
              "    </tr>\n",
              "  </tbody>\n",
              "</table>\n",
              "<p>21812 rows × 5 columns</p>\n",
              "</div>"
            ],
            "text/plain": [
              "             country  year           gdp  population  electricity_generation\n",
              "0      ASEAN (Ember)  2000           NaN         NaN                  378.61\n",
              "1      ASEAN (Ember)  2001           NaN         NaN                  404.85\n",
              "2      ASEAN (Ember)  2002           NaN         NaN                  433.19\n",
              "3      ASEAN (Ember)  2003           NaN         NaN                  458.24\n",
              "4      ASEAN (Ember)  2004           NaN         NaN                  496.56\n",
              "...              ...   ...           ...         ...                     ...\n",
              "21807       Zimbabwe  2019  2.514642e+10  15354606.0                    8.49\n",
              "21808       Zimbabwe  2020  2.317871e+10  15669663.0                    6.71\n",
              "21809       Zimbabwe  2021  2.514009e+10  15993525.0                    8.46\n",
              "21810       Zimbabwe  2022  2.590159e+10  16320539.0                    8.93\n",
              "21811       Zimbabwe  2023           NaN  16665407.0                     NaN\n",
              "\n",
              "[21812 rows x 5 columns]"
            ]
          },
          "execution_count": 9,
          "metadata": {},
          "output_type": "execute_result"
        }
      ],
      "source": [
        "list_of_columns = ['country', 'year', 'gdp', 'population', 'electricity_generation']\n",
        "data[list_of_columns]"
      ]
    },
    {
      "cell_type": "markdown",
      "metadata": {
        "id": "wQX4rJ1f97ry"
      },
      "source": [
        "You can add other operations on top of filtering. For example let's see what unique countries we can find in the dataset by calling the `.unique()` method. Can we find Italy?"
      ]
    },
    {
      "cell_type": "code",
      "execution_count": 10,
      "metadata": {
        "colab": {
          "base_uri": "https://localhost:8080/"
        },
        "id": "RX8CJQZD6rj_",
        "outputId": "4bfbddcf-3aa7-455c-c863-ab069b1b032a"
      },
      "outputs": [
        {
          "data": {
            "text/plain": [
              "array(['ASEAN (Ember)', 'Afghanistan', 'Africa', 'Africa (EI)',\n",
              "       'Africa (EIA)', 'Africa (Ember)', 'Africa (Shift)', 'Albania',\n",
              "       'Algeria', 'American Samoa', 'Angola', 'Antarctica',\n",
              "       'Antigua and Barbuda', 'Argentina', 'Armenia', 'Aruba', 'Asia',\n",
              "       'Asia & Oceania (EIA)', 'Asia (Ember)', 'Asia Pacific (EI)',\n",
              "       'Asia and Oceania (Shift)', 'Australia',\n",
              "       'Australia and New Zealand (EIA)', 'Austria', 'Azerbaijan',\n",
              "       'Bahamas', 'Bahrain', 'Bangladesh', 'Barbados', 'Belarus',\n",
              "       'Belgium', 'Belize', 'Benin', 'Bermuda', 'Bhutan', 'Bolivia',\n",
              "       'Bosnia and Herzegovina', 'Botswana', 'Brazil',\n",
              "       'British Virgin Islands', 'Brunei', 'Bulgaria', 'Burkina Faso',\n",
              "       'Burundi', 'CIS (EI)', 'Cambodia', 'Cameroon', 'Canada',\n",
              "       'Cape Verde', 'Cayman Islands', 'Central & South America (EIA)',\n",
              "       'Central African Republic', 'Central America (EI)',\n",
              "       'Central and South America (Shift)', 'Chad', 'Chile', 'China',\n",
              "       'Colombia', 'Comoros', 'Congo', 'Cook Islands', 'Costa Rica',\n",
              "       \"Cote d'Ivoire\", 'Croatia', 'Cuba', 'Curacao', 'Cyprus', 'Czechia',\n",
              "       'Czechoslovakia', 'Democratic Republic of Congo', 'Denmark',\n",
              "       'Djibouti', 'Dominica', 'Dominican Republic', 'EU28 (Shift)',\n",
              "       'East Germany', 'East Timor', 'Eastern Africa (EI)', 'Ecuador',\n",
              "       'Egypt', 'El Salvador', 'Equatorial Guinea', 'Eritrea', 'Estonia',\n",
              "       'Eswatini', 'Ethiopia', 'Eurasia (EIA)', 'Eurasia (Shift)',\n",
              "       'Europe', 'Europe (EI)', 'Europe (EIA)', 'Europe (Ember)',\n",
              "       'Europe (Shift)', 'European Union (27)', 'Falkland Islands',\n",
              "       'Faroe Islands', 'Fiji', 'Finland', 'France', 'French Guiana',\n",
              "       'French Polynesia', 'G20 (Ember)', 'G7 (Ember)', 'Gabon', 'Gambia',\n",
              "       'Georgia', 'Germany', 'Ghana', 'Gibraltar', 'Greece', 'Greenland',\n",
              "       'Grenada', 'Guadeloupe', 'Guam', 'Guatemala', 'Guinea',\n",
              "       'Guinea-Bissau', 'Guyana', 'Haiti', 'High-income countries',\n",
              "       'Honduras', 'Hong Kong', 'Hungary', 'Iceland', 'India',\n",
              "       'Indonesia', 'Iran', 'Iraq', 'Ireland', 'Israel', 'Italy',\n",
              "       'Jamaica', 'Japan', 'Jordan', 'Kazakhstan', 'Kenya', 'Kiribati',\n",
              "       'Kosovo', 'Kuwait', 'Kyrgyzstan', 'Laos',\n",
              "       'Latin America and Caribbean (Ember)', 'Latvia', 'Lebanon',\n",
              "       'Lesotho', 'Liberia', 'Libya', 'Lithuania', 'Low-income countries',\n",
              "       'Lower-middle-income countries', 'Luxembourg', 'Macao',\n",
              "       'Madagascar', 'Malawi', 'Malaysia', 'Maldives', 'Mali', 'Malta',\n",
              "       'Martinique', 'Mauritania', 'Mauritius', 'Mexico',\n",
              "       'Micronesia (country)', 'Middle Africa (EI)', 'Middle East (EI)',\n",
              "       'Middle East (EIA)', 'Middle East (Ember)', 'Middle East (Shift)',\n",
              "       'Moldova', 'Mongolia', 'Montenegro', 'Montserrat', 'Morocco',\n",
              "       'Mozambique', 'Myanmar', 'Namibia', 'Nauru', 'Nepal',\n",
              "       'Netherlands', 'Netherlands Antilles', 'New Caledonia',\n",
              "       'New Zealand', 'Nicaragua', 'Niger', 'Nigeria', 'Niue',\n",
              "       'Non-OECD (EI)', 'Non-OECD (EIA)', 'Non-OPEC (EI)',\n",
              "       'Non-OPEC (EIA)', 'North America', 'North America (EI)',\n",
              "       'North America (Ember)', 'North America (Shift)', 'North Korea',\n",
              "       'North Macedonia', 'Northern Mariana Islands', 'Norway',\n",
              "       'OECD (EI)', 'OECD (EIA)', 'OECD (Ember)', 'OECD (Shift)',\n",
              "       'OPEC (EI)', 'OPEC (EIA)', 'OPEC (Shift)', 'Oceania',\n",
              "       'Oceania (Ember)', 'Oman', 'Pakistan', 'Palestine', 'Panama',\n",
              "       'Papua New Guinea', 'Paraguay', 'Persian Gulf (EIA)',\n",
              "       'Persian Gulf (Shift)', 'Peru', 'Philippines', 'Poland',\n",
              "       'Portugal', 'Puerto Rico', 'Qatar', 'Reunion', 'Romania', 'Russia',\n",
              "       'Rwanda', 'Saint Helena', 'Saint Kitts and Nevis', 'Saint Lucia',\n",
              "       'Saint Pierre and Miquelon', 'Saint Vincent and the Grenadines',\n",
              "       'Samoa', 'Sao Tome and Principe', 'Saudi Arabia', 'Senegal',\n",
              "       'Serbia', 'Serbia and Montenegro', 'Seychelles', 'Sierra Leone',\n",
              "       'Singapore', 'Slovakia', 'Slovenia', 'Solomon Islands', 'Somalia',\n",
              "       'South Africa', 'South America', 'South Korea', 'South Sudan',\n",
              "       'South and Central America (EI)', 'Spain', 'Sri Lanka', 'Sudan',\n",
              "       'Suriname', 'Sweden', 'Switzerland', 'Syria', 'Taiwan',\n",
              "       'Tajikistan', 'Tanzania', 'Thailand', 'Togo', 'Tonga',\n",
              "       'Trinidad and Tobago', 'Tunisia', 'Turkey', 'Turkmenistan',\n",
              "       'Turks and Caicos Islands', 'Tuvalu', 'U.S. Pacific Islands (EIA)',\n",
              "       'U.S. Territories (EIA)', 'USSR', 'Uganda', 'Ukraine',\n",
              "       'United Arab Emirates', 'United Kingdom', 'United States',\n",
              "       'United States Pacific Islands (Shift)',\n",
              "       'United States Territories (Shift)',\n",
              "       'United States Virgin Islands', 'Upper-middle-income countries',\n",
              "       'Uruguay', 'Uzbekistan', 'Vanuatu', 'Venezuela', 'Vietnam',\n",
              "       'Wake Island (EIA)', 'Wake Island (Shift)', 'West Germany',\n",
              "       'Western Africa (EI)', 'Western Sahara', 'World', 'Yemen',\n",
              "       'Yugoslavia', 'Zambia', 'Zimbabwe'], dtype=object)"
            ]
          },
          "execution_count": 10,
          "metadata": {},
          "output_type": "execute_result"
        }
      ],
      "source": [
        "data['country'].unique()"
      ]
    },
    {
      "cell_type": "markdown",
      "metadata": {
        "id": "uJ9Fhbbv-T5y"
      },
      "source": [
        "Italy is present in the dataset. However, compared to the columns, the country is **not present** in the data frame row index. We have to use conditional filtering in this case:"
      ]
    },
    {
      "cell_type": "code",
      "execution_count": 11,
      "metadata": {
        "colab": {
          "base_uri": "https://localhost:8080/",
          "height": 443
        },
        "id": "IYWskkTG-SFX",
        "outputId": "92d4d2bd-5e08-49e8-c4ab-5bc39cf862fa"
      },
      "outputs": [
        {
          "data": {
            "text/plain": [
              "0        False\n",
              "1        False\n",
              "2        False\n",
              "3        False\n",
              "4        False\n",
              "         ...  \n",
              "21807    False\n",
              "21808    False\n",
              "21809    False\n",
              "21810    False\n",
              "21811    False\n",
              "Name: country, Length: 21812, dtype: bool"
            ]
          },
          "execution_count": 11,
          "metadata": {},
          "output_type": "execute_result"
        }
      ],
      "source": [
        "data['country'] == 'Italy'"
      ]
    },
    {
      "cell_type": "markdown",
      "metadata": {
        "id": "XiW0zP8EAfJD"
      },
      "source": [
        "> **NB** When called on its own, the filter that we used (`data['country'] == 'Italy'`) returns a **series** of True and False values. You can check it by copying it and running in a separate cell.\n",
        "\n",
        "Now, let's try to combine the two methods and filter both the rows and columns. Save a **copy** of the data frame as a variable `data_italy`. As you will see, saving a copy of the data frame to a variable *does not* produce any visible output.  "
      ]
    },
    {
      "cell_type": "code",
      "execution_count": 12,
      "metadata": {
        "id": "VsbIj1N0CvR9"
      },
      "outputs": [
        {
          "data": {
            "text/html": [
              "<div>\n",
              "<style scoped>\n",
              "    .dataframe tbody tr th:only-of-type {\n",
              "        vertical-align: middle;\n",
              "    }\n",
              "\n",
              "    .dataframe tbody tr th {\n",
              "        vertical-align: top;\n",
              "    }\n",
              "\n",
              "    .dataframe thead th {\n",
              "        text-align: right;\n",
              "    }\n",
              "</style>\n",
              "<table border=\"1\" class=\"dataframe\">\n",
              "  <thead>\n",
              "    <tr style=\"text-align: right;\">\n",
              "      <th></th>\n",
              "      <th>country</th>\n",
              "      <th>year</th>\n",
              "      <th>gdp</th>\n",
              "      <th>population</th>\n",
              "      <th>electricity_generation</th>\n",
              "    </tr>\n",
              "  </thead>\n",
              "  <tbody>\n",
              "    <tr>\n",
              "      <th>9949</th>\n",
              "      <td>Italy</td>\n",
              "      <td>1900</td>\n",
              "      <td>1.099054e+11</td>\n",
              "      <td>33332371.0</td>\n",
              "      <td>NaN</td>\n",
              "    </tr>\n",
              "    <tr>\n",
              "      <th>9950</th>\n",
              "      <td>Italy</td>\n",
              "      <td>1901</td>\n",
              "      <td>1.123700e+11</td>\n",
              "      <td>33571430.0</td>\n",
              "      <td>NaN</td>\n",
              "    </tr>\n",
              "    <tr>\n",
              "      <th>9951</th>\n",
              "      <td>Italy</td>\n",
              "      <td>1902</td>\n",
              "      <td>1.151736e+11</td>\n",
              "      <td>33827207.0</td>\n",
              "      <td>NaN</td>\n",
              "    </tr>\n",
              "    <tr>\n",
              "      <th>9952</th>\n",
              "      <td>Italy</td>\n",
              "      <td>1903</td>\n",
              "      <td>1.171513e+11</td>\n",
              "      <td>34099919.0</td>\n",
              "      <td>NaN</td>\n",
              "    </tr>\n",
              "    <tr>\n",
              "      <th>9953</th>\n",
              "      <td>Italy</td>\n",
              "      <td>1904</td>\n",
              "      <td>1.201486e+11</td>\n",
              "      <td>34374827.0</td>\n",
              "      <td>NaN</td>\n",
              "    </tr>\n",
              "    <tr>\n",
              "      <th>...</th>\n",
              "      <td>...</td>\n",
              "      <td>...</td>\n",
              "      <td>...</td>\n",
              "      <td>...</td>\n",
              "      <td>...</td>\n",
              "    </tr>\n",
              "    <tr>\n",
              "      <th>10068</th>\n",
              "      <td>Italy</td>\n",
              "      <td>2019</td>\n",
              "      <td>2.115726e+12</td>\n",
              "      <td>59727936.0</td>\n",
              "      <td>289.99</td>\n",
              "    </tr>\n",
              "    <tr>\n",
              "      <th>10069</th>\n",
              "      <td>Italy</td>\n",
              "      <td>2020</td>\n",
              "      <td>1.925752e+12</td>\n",
              "      <td>59500576.0</td>\n",
              "      <td>276.81</td>\n",
              "    </tr>\n",
              "    <tr>\n",
              "      <th>10070</th>\n",
              "      <td>Italy</td>\n",
              "      <td>2021</td>\n",
              "      <td>2.060300e+12</td>\n",
              "      <td>59240336.0</td>\n",
              "      <td>285.49</td>\n",
              "    </tr>\n",
              "    <tr>\n",
              "      <th>10071</th>\n",
              "      <td>Italy</td>\n",
              "      <td>2022</td>\n",
              "      <td>2.136009e+12</td>\n",
              "      <td>59037472.0</td>\n",
              "      <td>279.96</td>\n",
              "    </tr>\n",
              "    <tr>\n",
              "      <th>10072</th>\n",
              "      <td>Italy</td>\n",
              "      <td>2023</td>\n",
              "      <td>NaN</td>\n",
              "      <td>58870764.0</td>\n",
              "      <td>262.58</td>\n",
              "    </tr>\n",
              "  </tbody>\n",
              "</table>\n",
              "<p>124 rows × 5 columns</p>\n",
              "</div>"
            ],
            "text/plain": [
              "      country  year           gdp  population  electricity_generation\n",
              "9949    Italy  1900  1.099054e+11  33332371.0                     NaN\n",
              "9950    Italy  1901  1.123700e+11  33571430.0                     NaN\n",
              "9951    Italy  1902  1.151736e+11  33827207.0                     NaN\n",
              "9952    Italy  1903  1.171513e+11  34099919.0                     NaN\n",
              "9953    Italy  1904  1.201486e+11  34374827.0                     NaN\n",
              "...       ...   ...           ...         ...                     ...\n",
              "10068   Italy  2019  2.115726e+12  59727936.0                  289.99\n",
              "10069   Italy  2020  1.925752e+12  59500576.0                  276.81\n",
              "10070   Italy  2021  2.060300e+12  59240336.0                  285.49\n",
              "10071   Italy  2022  2.136009e+12  59037472.0                  279.96\n",
              "10072   Italy  2023           NaN  58870764.0                  262.58\n",
              "\n",
              "[124 rows x 5 columns]"
            ]
          },
          "execution_count": 12,
          "metadata": {},
          "output_type": "execute_result"
        }
      ],
      "source": [
        "data_italy = data[data['country'] == 'Italy'][list_of_columns].copy()\n",
        "data_italy"
      ]
    },
    {
      "cell_type": "markdown",
      "metadata": {},
      "source": [
        "> **NB** No matter the method, filtering returns a **view** of the data frame. If we plan to do further modifications to the dataframe, it's wise to add `.copy()` method after the filtering to get a **copy** instead of a **view**."
      ]
    },
    {
      "cell_type": "markdown",
      "metadata": {
        "id": "sVNjxIHiDRvb"
      },
      "source": [
        "### Descriptive statistics with `pandas`\n",
        "\n",
        "To learn something about the data that we extracted we can run the `.describe()` method. It gives us back most of the commonly used descriptors for all the columns in the data frame."
      ]
    },
    {
      "cell_type": "code",
      "execution_count": 13,
      "metadata": {
        "colab": {
          "base_uri": "https://localhost:8080/",
          "height": 300
        },
        "id": "Im5W8dBvJvyd",
        "outputId": "798fc2fd-418b-4d01-d809-a492d018e771"
      },
      "outputs": [
        {
          "data": {
            "text/html": [
              "<div>\n",
              "<style scoped>\n",
              "    .dataframe tbody tr th:only-of-type {\n",
              "        vertical-align: middle;\n",
              "    }\n",
              "\n",
              "    .dataframe tbody tr th {\n",
              "        vertical-align: top;\n",
              "    }\n",
              "\n",
              "    .dataframe thead th {\n",
              "        text-align: right;\n",
              "    }\n",
              "</style>\n",
              "<table border=\"1\" class=\"dataframe\">\n",
              "  <thead>\n",
              "    <tr style=\"text-align: right;\">\n",
              "      <th></th>\n",
              "      <th>year</th>\n",
              "      <th>gdp</th>\n",
              "      <th>population</th>\n",
              "      <th>electricity_generation</th>\n",
              "    </tr>\n",
              "  </thead>\n",
              "  <tbody>\n",
              "    <tr>\n",
              "      <th>count</th>\n",
              "      <td>124.000000</td>\n",
              "      <td>1.230000e+02</td>\n",
              "      <td>1.240000e+02</td>\n",
              "      <td>39.000000</td>\n",
              "    </tr>\n",
              "    <tr>\n",
              "      <th>mean</th>\n",
              "      <td>1961.500000</td>\n",
              "      <td>8.424366e+11</td>\n",
              "      <td>4.878974e+07</td>\n",
              "      <td>262.251103</td>\n",
              "    </tr>\n",
              "    <tr>\n",
              "      <th>std</th>\n",
              "      <td>35.939764</td>\n",
              "      <td>7.416306e+11</td>\n",
              "      <td>8.856649e+06</td>\n",
              "      <td>35.971885</td>\n",
              "    </tr>\n",
              "    <tr>\n",
              "      <th>min</th>\n",
              "      <td>1900.000000</td>\n",
              "      <td>1.099054e+11</td>\n",
              "      <td>3.333237e+07</td>\n",
              "      <td>185.740000</td>\n",
              "    </tr>\n",
              "    <tr>\n",
              "      <th>25%</th>\n",
              "      <td>1930.750000</td>\n",
              "      <td>1.800684e+11</td>\n",
              "      <td>4.041565e+07</td>\n",
              "      <td>233.060000</td>\n",
              "    </tr>\n",
              "    <tr>\n",
              "      <th>50%</th>\n",
              "      <td>1961.500000</td>\n",
              "      <td>5.132147e+11</td>\n",
              "      <td>4.998748e+07</td>\n",
              "      <td>276.810000</td>\n",
              "    </tr>\n",
              "    <tr>\n",
              "      <th>75%</th>\n",
              "      <td>1992.250000</td>\n",
              "      <td>1.519363e+12</td>\n",
              "      <td>5.684225e+07</td>\n",
              "      <td>288.175000</td>\n",
              "    </tr>\n",
              "    <tr>\n",
              "      <th>max</th>\n",
              "      <td>2023.000000</td>\n",
              "      <td>2.136009e+12</td>\n",
              "      <td>6.032279e+07</td>\n",
              "      <td>311.570000</td>\n",
              "    </tr>\n",
              "  </tbody>\n",
              "</table>\n",
              "</div>"
            ],
            "text/plain": [
              "              year           gdp    population  electricity_generation\n",
              "count   124.000000  1.230000e+02  1.240000e+02               39.000000\n",
              "mean   1961.500000  8.424366e+11  4.878974e+07              262.251103\n",
              "std      35.939764  7.416306e+11  8.856649e+06               35.971885\n",
              "min    1900.000000  1.099054e+11  3.333237e+07              185.740000\n",
              "25%    1930.750000  1.800684e+11  4.041565e+07              233.060000\n",
              "50%    1961.500000  5.132147e+11  4.998748e+07              276.810000\n",
              "75%    1992.250000  1.519363e+12  5.684225e+07              288.175000\n",
              "max    2023.000000  2.136009e+12  6.032279e+07              311.570000"
            ]
          },
          "execution_count": 13,
          "metadata": {},
          "output_type": "execute_result"
        }
      ],
      "source": [
        "data_italy.describe()"
      ]
    },
    {
      "cell_type": "markdown",
      "metadata": {
        "id": "A-t4zikRPsyJ"
      },
      "source": [
        "As great as this function is, sometimes its outputs are not as useful to an analyst, e.g. the method gave us back the average year of observation (it doesn't make much sense, does it?).\n",
        "\n",
        "Fortunately, `pandas` allows us to perform more detailed analysis using dedicated aggregative methods. For example, let's find the mean yearly electricity generation in Italy after 2008. We can use the filtering methods described earlier to extract the data and add the `.mean()` method at the end to get the mean."
      ]
    },
    {
      "cell_type": "code",
      "execution_count": 14,
      "metadata": {
        "colab": {
          "base_uri": "https://localhost:8080/"
        },
        "id": "u-w25YK_QrVB",
        "outputId": "c3ceee2a-10e8-405c-f05a-6f06bc5f5319"
      },
      "outputs": [
        {
          "data": {
            "text/plain": [
              "285.186"
            ]
          },
          "execution_count": 14,
          "metadata": {},
          "output_type": "execute_result"
        }
      ],
      "source": [
        "data_italy[data_italy['year'] > 2008]['electricity_generation'].mean()"
      ]
    },
    {
      "cell_type": "markdown",
      "metadata": {
        "id": "OfARkf4gQuHZ"
      },
      "source": [
        "287.87 TWh! That's almost twice as much than in Poland. Of course the mean is not the only descriptor that we might be interested in. Fortunately, pandas offers other options, such as:\n",
        "* `.var()` - variance\n",
        "* `.std()` - standard deviation\n",
        "* `.max()` - maximum\n",
        "* `.min()` - minimum\n",
        "* `.median()` - median\n",
        "\n",
        "You can use the code cell below and try some of them on your own:"
      ]
    },
    {
      "cell_type": "code",
      "execution_count": 15,
      "metadata": {
        "id": "ou94wkpdSTDh"
      },
      "outputs": [],
      "source": [
        "# Test your functions here"
      ]
    },
    {
      "cell_type": "markdown",
      "metadata": {
        "id": "ddtNffFdOsd9"
      },
      "source": [
        "### Cleaning data with `pandas`\n",
        "\n",
        "Not every dataset is clean and nicely organized from the beginning. Sometimes parts of the data is missing or has unreadable or strange values. In reality, even our dataset has some missing values!. We can use the `.info()` method to verify this:"
      ]
    },
    {
      "cell_type": "code",
      "execution_count": 16,
      "metadata": {
        "colab": {
          "base_uri": "https://localhost:8080/"
        },
        "id": "_S8CTXNnOazz",
        "outputId": "d843ee5d-b7e6-4253-aacf-d7cdcd3085e7"
      },
      "outputs": [
        {
          "name": "stdout",
          "output_type": "stream",
          "text": [
            "<class 'pandas.core.frame.DataFrame'>\n",
            "Index: 124 entries, 9949 to 10072\n",
            "Data columns (total 5 columns):\n",
            " #   Column                  Non-Null Count  Dtype  \n",
            "---  ------                  --------------  -----  \n",
            " 0   country                 124 non-null    object \n",
            " 1   year                    124 non-null    int64  \n",
            " 2   gdp                     123 non-null    float64\n",
            " 3   population              124 non-null    float64\n",
            " 4   electricity_generation  39 non-null     float64\n",
            "dtypes: float64(3), int64(1), object(1)\n",
            "memory usage: 5.8+ KB\n"
          ]
        }
      ],
      "source": [
        "data_italy.info()"
      ]
    },
    {
      "cell_type": "markdown",
      "metadata": {
        "id": "JbHABN48U3c6"
      },
      "source": [
        "Turns out we have a lot of missing data! Only 38 out of 123 years have electricity generation entry present. We have to do something about it.\n",
        "\n",
        "There are two common options of dealing with missing data:\n",
        "* removal of the missing entries\n",
        "* imputation of data, e.g. through interpolation or filling with a value\n",
        "\n",
        "> **NB** When designing ML applications it is crucial to choose the correct approach to handling missing data, as a wrong approach might have high impact on the outcomes of the designed models.\n",
        "\n",
        "As there is a lot of missing entries, it is easier to remove them completely. To do that, run this command:\n"
      ]
    },
    {
      "cell_type": "code",
      "execution_count": 17,
      "metadata": {
        "id": "dVNT4WtkxJcJ"
      },
      "outputs": [],
      "source": [
        "data_italy.dropna(inplace=True)\n",
        "# using parameter \"inplace=True\" automatically saves the new emptied dataset on top of the old one"
      ]
    },
    {
      "cell_type": "markdown",
      "metadata": {
        "id": "7BgMZlXex24N"
      },
      "source": [
        "Now let's see what is left:"
      ]
    },
    {
      "cell_type": "code",
      "execution_count": 18,
      "metadata": {
        "colab": {
          "base_uri": "https://localhost:8080/"
        },
        "id": "Jx9OoqJRx5dk",
        "outputId": "479ad05a-a35f-42af-9e50-7971c8d9b048"
      },
      "outputs": [
        {
          "name": "stdout",
          "output_type": "stream",
          "text": [
            "<class 'pandas.core.frame.DataFrame'>\n",
            "Index: 38 entries, 10034 to 10071\n",
            "Data columns (total 5 columns):\n",
            " #   Column                  Non-Null Count  Dtype  \n",
            "---  ------                  --------------  -----  \n",
            " 0   country                 38 non-null     object \n",
            " 1   year                    38 non-null     int64  \n",
            " 2   gdp                     38 non-null     float64\n",
            " 3   population              38 non-null     float64\n",
            " 4   electricity_generation  38 non-null     float64\n",
            "dtypes: float64(3), int64(1), object(1)\n",
            "memory usage: 1.8+ KB\n"
          ]
        }
      ],
      "source": [
        "data_italy.info()"
      ]
    },
    {
      "cell_type": "markdown",
      "metadata": {
        "id": "84VONF0byBAu"
      },
      "source": [
        "The final dataset is limited to entries that are not empty in **all** of the columns.\n",
        "\n",
        "Now the dataset is ready to be visualised. Nice!\n",
        "\n",
        "For coveniance, I will save the transformations that we did as a function, we will use it later."
      ]
    },
    {
      "cell_type": "code",
      "execution_count": 19,
      "metadata": {
        "id": "bjuRqjBgM1SZ"
      },
      "outputs": [],
      "source": [
        "def get_country_df(df, country):\n",
        "    country_df = df[df['country'] == country][list_of_columns].copy()\n",
        "    return country_df.dropna()"
      ]
    },
    {
      "cell_type": "markdown",
      "metadata": {
        "id": "J5kjJQ0aSu9P"
      },
      "source": [
        "### Grouping and sorting data in `pandas`"
      ]
    },
    {
      "cell_type": "markdown",
      "metadata": {
        "id": "rO5aShUUyt9k"
      },
      "source": [
        "Before we move to visualization there are two additional (and very useful) operations that `pandas` can handle: **grouping** and **sorting**.\n",
        "\n",
        "To better explain how they work we should move back to the big data frame from the begining of the lesson.\n",
        "\n"
      ]
    },
    {
      "cell_type": "code",
      "execution_count": 20,
      "metadata": {
        "colab": {
          "base_uri": "https://localhost:8080/",
          "height": 342
        },
        "id": "x1A62DLj2ZWU",
        "outputId": "8f344b5e-86d7-47a8-aae2-b0b4dd17d0c9"
      },
      "outputs": [
        {
          "data": {
            "text/html": [
              "<div>\n",
              "<style scoped>\n",
              "    .dataframe tbody tr th:only-of-type {\n",
              "        vertical-align: middle;\n",
              "    }\n",
              "\n",
              "    .dataframe tbody tr th {\n",
              "        vertical-align: top;\n",
              "    }\n",
              "\n",
              "    .dataframe thead th {\n",
              "        text-align: right;\n",
              "    }\n",
              "</style>\n",
              "<table border=\"1\" class=\"dataframe\">\n",
              "  <thead>\n",
              "    <tr style=\"text-align: right;\">\n",
              "      <th></th>\n",
              "      <th>country</th>\n",
              "      <th>year</th>\n",
              "      <th>iso_code</th>\n",
              "      <th>population</th>\n",
              "      <th>gdp</th>\n",
              "      <th>biofuel_cons_change_pct</th>\n",
              "      <th>biofuel_cons_change_twh</th>\n",
              "      <th>biofuel_cons_per_capita</th>\n",
              "      <th>biofuel_consumption</th>\n",
              "      <th>biofuel_elec_per_capita</th>\n",
              "      <th>...</th>\n",
              "      <th>solar_share_elec</th>\n",
              "      <th>solar_share_energy</th>\n",
              "      <th>wind_cons_change_pct</th>\n",
              "      <th>wind_cons_change_twh</th>\n",
              "      <th>wind_consumption</th>\n",
              "      <th>wind_elec_per_capita</th>\n",
              "      <th>wind_electricity</th>\n",
              "      <th>wind_energy_per_capita</th>\n",
              "      <th>wind_share_elec</th>\n",
              "      <th>wind_share_energy</th>\n",
              "    </tr>\n",
              "  </thead>\n",
              "  <tbody>\n",
              "    <tr>\n",
              "      <th>0</th>\n",
              "      <td>ASEAN (Ember)</td>\n",
              "      <td>2000</td>\n",
              "      <td>NaN</td>\n",
              "      <td>NaN</td>\n",
              "      <td>NaN</td>\n",
              "      <td>NaN</td>\n",
              "      <td>NaN</td>\n",
              "      <td>NaN</td>\n",
              "      <td>NaN</td>\n",
              "      <td>NaN</td>\n",
              "      <td>...</td>\n",
              "      <td>0.0</td>\n",
              "      <td>NaN</td>\n",
              "      <td>NaN</td>\n",
              "      <td>NaN</td>\n",
              "      <td>NaN</td>\n",
              "      <td>NaN</td>\n",
              "      <td>0.0</td>\n",
              "      <td>NaN</td>\n",
              "      <td>0.0</td>\n",
              "      <td>NaN</td>\n",
              "    </tr>\n",
              "    <tr>\n",
              "      <th>1</th>\n",
              "      <td>ASEAN (Ember)</td>\n",
              "      <td>2001</td>\n",
              "      <td>NaN</td>\n",
              "      <td>NaN</td>\n",
              "      <td>NaN</td>\n",
              "      <td>NaN</td>\n",
              "      <td>NaN</td>\n",
              "      <td>NaN</td>\n",
              "      <td>NaN</td>\n",
              "      <td>NaN</td>\n",
              "      <td>...</td>\n",
              "      <td>0.0</td>\n",
              "      <td>NaN</td>\n",
              "      <td>NaN</td>\n",
              "      <td>NaN</td>\n",
              "      <td>NaN</td>\n",
              "      <td>NaN</td>\n",
              "      <td>0.0</td>\n",
              "      <td>NaN</td>\n",
              "      <td>0.0</td>\n",
              "      <td>NaN</td>\n",
              "    </tr>\n",
              "    <tr>\n",
              "      <th>2</th>\n",
              "      <td>ASEAN (Ember)</td>\n",
              "      <td>2002</td>\n",
              "      <td>NaN</td>\n",
              "      <td>NaN</td>\n",
              "      <td>NaN</td>\n",
              "      <td>NaN</td>\n",
              "      <td>NaN</td>\n",
              "      <td>NaN</td>\n",
              "      <td>NaN</td>\n",
              "      <td>NaN</td>\n",
              "      <td>...</td>\n",
              "      <td>0.0</td>\n",
              "      <td>NaN</td>\n",
              "      <td>NaN</td>\n",
              "      <td>NaN</td>\n",
              "      <td>NaN</td>\n",
              "      <td>NaN</td>\n",
              "      <td>0.0</td>\n",
              "      <td>NaN</td>\n",
              "      <td>0.0</td>\n",
              "      <td>NaN</td>\n",
              "    </tr>\n",
              "    <tr>\n",
              "      <th>3</th>\n",
              "      <td>ASEAN (Ember)</td>\n",
              "      <td>2003</td>\n",
              "      <td>NaN</td>\n",
              "      <td>NaN</td>\n",
              "      <td>NaN</td>\n",
              "      <td>NaN</td>\n",
              "      <td>NaN</td>\n",
              "      <td>NaN</td>\n",
              "      <td>NaN</td>\n",
              "      <td>NaN</td>\n",
              "      <td>...</td>\n",
              "      <td>0.0</td>\n",
              "      <td>NaN</td>\n",
              "      <td>NaN</td>\n",
              "      <td>NaN</td>\n",
              "      <td>NaN</td>\n",
              "      <td>NaN</td>\n",
              "      <td>0.0</td>\n",
              "      <td>NaN</td>\n",
              "      <td>0.0</td>\n",
              "      <td>NaN</td>\n",
              "    </tr>\n",
              "    <tr>\n",
              "      <th>4</th>\n",
              "      <td>ASEAN (Ember)</td>\n",
              "      <td>2004</td>\n",
              "      <td>NaN</td>\n",
              "      <td>NaN</td>\n",
              "      <td>NaN</td>\n",
              "      <td>NaN</td>\n",
              "      <td>NaN</td>\n",
              "      <td>NaN</td>\n",
              "      <td>NaN</td>\n",
              "      <td>NaN</td>\n",
              "      <td>...</td>\n",
              "      <td>0.0</td>\n",
              "      <td>NaN</td>\n",
              "      <td>NaN</td>\n",
              "      <td>NaN</td>\n",
              "      <td>NaN</td>\n",
              "      <td>NaN</td>\n",
              "      <td>0.0</td>\n",
              "      <td>NaN</td>\n",
              "      <td>0.0</td>\n",
              "      <td>NaN</td>\n",
              "    </tr>\n",
              "  </tbody>\n",
              "</table>\n",
              "<p>5 rows × 129 columns</p>\n",
              "</div>"
            ],
            "text/plain": [
              "         country  year iso_code  population  gdp  biofuel_cons_change_pct  \\\n",
              "0  ASEAN (Ember)  2000      NaN         NaN  NaN                      NaN   \n",
              "1  ASEAN (Ember)  2001      NaN         NaN  NaN                      NaN   \n",
              "2  ASEAN (Ember)  2002      NaN         NaN  NaN                      NaN   \n",
              "3  ASEAN (Ember)  2003      NaN         NaN  NaN                      NaN   \n",
              "4  ASEAN (Ember)  2004      NaN         NaN  NaN                      NaN   \n",
              "\n",
              "   biofuel_cons_change_twh  biofuel_cons_per_capita  biofuel_consumption  \\\n",
              "0                      NaN                      NaN                  NaN   \n",
              "1                      NaN                      NaN                  NaN   \n",
              "2                      NaN                      NaN                  NaN   \n",
              "3                      NaN                      NaN                  NaN   \n",
              "4                      NaN                      NaN                  NaN   \n",
              "\n",
              "   biofuel_elec_per_capita  ...  solar_share_elec  solar_share_energy  \\\n",
              "0                      NaN  ...               0.0                 NaN   \n",
              "1                      NaN  ...               0.0                 NaN   \n",
              "2                      NaN  ...               0.0                 NaN   \n",
              "3                      NaN  ...               0.0                 NaN   \n",
              "4                      NaN  ...               0.0                 NaN   \n",
              "\n",
              "   wind_cons_change_pct  wind_cons_change_twh  wind_consumption  \\\n",
              "0                   NaN                   NaN               NaN   \n",
              "1                   NaN                   NaN               NaN   \n",
              "2                   NaN                   NaN               NaN   \n",
              "3                   NaN                   NaN               NaN   \n",
              "4                   NaN                   NaN               NaN   \n",
              "\n",
              "   wind_elec_per_capita  wind_electricity  wind_energy_per_capita  \\\n",
              "0                   NaN               0.0                     NaN   \n",
              "1                   NaN               0.0                     NaN   \n",
              "2                   NaN               0.0                     NaN   \n",
              "3                   NaN               0.0                     NaN   \n",
              "4                   NaN               0.0                     NaN   \n",
              "\n",
              "   wind_share_elec  wind_share_energy  \n",
              "0              0.0                NaN  \n",
              "1              0.0                NaN  \n",
              "2              0.0                NaN  \n",
              "3              0.0                NaN  \n",
              "4              0.0                NaN  \n",
              "\n",
              "[5 rows x 129 columns]"
            ]
          },
          "execution_count": 20,
          "metadata": {},
          "output_type": "execute_result"
        }
      ],
      "source": [
        "data.head()"
      ]
    },
    {
      "cell_type": "markdown",
      "metadata": {
        "id": "z110f1cG2YOo"
      },
      "source": [
        "**Grouping** allows us to take a _categorical_ value as a key, and calculate the aggregated parameters that we want. A good example of a _categorical_ variable can be the `'country'` column.\n",
        "\n",
        "Let's imagine now that we want to find the GDP per capita of countries in the table (and that there is no such column in the data frame... :) and compare it to the electricity generation per capita. To do that we need to find some aggregated values of GDP and population for each country. For simplicity, let's get the maximum values."
      ]
    },
    {
      "cell_type": "markdown",
      "metadata": {
        "id": "EbfCtua8Gh9c"
      },
      "source": [
        "First let's create a filter for columns to keep:"
      ]
    },
    {
      "cell_type": "code",
      "execution_count": 21,
      "metadata": {
        "id": "sJWS60yeGnK8"
      },
      "outputs": [],
      "source": [
        "columns_to_keep = ['gdp', 'population', 'electricity_generation']"
      ]
    },
    {
      "cell_type": "code",
      "execution_count": 22,
      "metadata": {
        "colab": {
          "base_uri": "https://localhost:8080/",
          "height": 455
        },
        "id": "mZRATeXRw_3W",
        "outputId": "d79de797-8816-48b5-8301-9497bad305f2"
      },
      "outputs": [
        {
          "data": {
            "text/html": [
              "<div>\n",
              "<style scoped>\n",
              "    .dataframe tbody tr th:only-of-type {\n",
              "        vertical-align: middle;\n",
              "    }\n",
              "\n",
              "    .dataframe tbody tr th {\n",
              "        vertical-align: top;\n",
              "    }\n",
              "\n",
              "    .dataframe thead th {\n",
              "        text-align: right;\n",
              "    }\n",
              "</style>\n",
              "<table border=\"1\" class=\"dataframe\">\n",
              "  <thead>\n",
              "    <tr style=\"text-align: right;\">\n",
              "      <th></th>\n",
              "      <th>gdp</th>\n",
              "      <th>population</th>\n",
              "      <th>electricity_generation</th>\n",
              "    </tr>\n",
              "    <tr>\n",
              "      <th>country</th>\n",
              "      <th></th>\n",
              "      <th></th>\n",
              "      <th></th>\n",
              "    </tr>\n",
              "  </thead>\n",
              "  <tbody>\n",
              "    <tr>\n",
              "      <th>ASEAN (Ember)</th>\n",
              "      <td>NaN</td>\n",
              "      <td>NaN</td>\n",
              "      <td>1237.400</td>\n",
              "    </tr>\n",
              "    <tr>\n",
              "      <th>Afghanistan</th>\n",
              "      <td>7.308571e+10</td>\n",
              "      <td>4.112877e+07</td>\n",
              "      <td>1.260</td>\n",
              "    </tr>\n",
              "    <tr>\n",
              "      <th>Africa</th>\n",
              "      <td>NaN</td>\n",
              "      <td>1.460482e+09</td>\n",
              "      <td>889.880</td>\n",
              "    </tr>\n",
              "    <tr>\n",
              "      <th>Africa (EI)</th>\n",
              "      <td>NaN</td>\n",
              "      <td>NaN</td>\n",
              "      <td>902.927</td>\n",
              "    </tr>\n",
              "    <tr>\n",
              "      <th>Africa (EIA)</th>\n",
              "      <td>NaN</td>\n",
              "      <td>NaN</td>\n",
              "      <td>NaN</td>\n",
              "    </tr>\n",
              "    <tr>\n",
              "      <th>...</th>\n",
              "      <td>...</td>\n",
              "      <td>...</td>\n",
              "      <td>...</td>\n",
              "    </tr>\n",
              "    <tr>\n",
              "      <th>World</th>\n",
              "      <td>1.301126e+14</td>\n",
              "      <td>8.045311e+09</td>\n",
              "      <td>29479.051</td>\n",
              "    </tr>\n",
              "    <tr>\n",
              "      <th>Yemen</th>\n",
              "      <td>1.116229e+11</td>\n",
              "      <td>3.444982e+07</td>\n",
              "      <td>8.500</td>\n",
              "    </tr>\n",
              "    <tr>\n",
              "      <th>Yugoslavia</th>\n",
              "      <td>2.300694e+11</td>\n",
              "      <td>2.307000e+07</td>\n",
              "      <td>NaN</td>\n",
              "    </tr>\n",
              "    <tr>\n",
              "      <th>Zambia</th>\n",
              "      <td>6.846960e+10</td>\n",
              "      <td>2.056974e+07</td>\n",
              "      <td>19.470</td>\n",
              "    </tr>\n",
              "    <tr>\n",
              "      <th>Zimbabwe</th>\n",
              "      <td>2.798430e+10</td>\n",
              "      <td>1.666541e+07</td>\n",
              "      <td>9.860</td>\n",
              "    </tr>\n",
              "  </tbody>\n",
              "</table>\n",
              "<p>294 rows × 3 columns</p>\n",
              "</div>"
            ],
            "text/plain": [
              "                        gdp    population  electricity_generation\n",
              "country                                                          \n",
              "ASEAN (Ember)           NaN           NaN                1237.400\n",
              "Afghanistan    7.308571e+10  4.112877e+07                   1.260\n",
              "Africa                  NaN  1.460482e+09                 889.880\n",
              "Africa (EI)             NaN           NaN                 902.927\n",
              "Africa (EIA)            NaN           NaN                     NaN\n",
              "...                     ...           ...                     ...\n",
              "World          1.301126e+14  8.045311e+09               29479.051\n",
              "Yemen          1.116229e+11  3.444982e+07                   8.500\n",
              "Yugoslavia     2.300694e+11  2.307000e+07                     NaN\n",
              "Zambia         6.846960e+10  2.056974e+07                  19.470\n",
              "Zimbabwe       2.798430e+10  1.666541e+07                   9.860\n",
              "\n",
              "[294 rows x 3 columns]"
            ]
          },
          "execution_count": 22,
          "metadata": {},
          "output_type": "execute_result"
        }
      ],
      "source": [
        "data.groupby('country')[columns_to_keep].max()  # We imidiately filter to the desired columns"
      ]
    },
    {
      "cell_type": "markdown",
      "metadata": {
        "id": "KmXxxbM67Vwx"
      },
      "source": [
        "As we can see, again we have some missing values. Let's remove them and save the new data frame as `country_data`. We can stack the methods we already know in one line. Also let's print the head of the new data frame:"
      ]
    },
    {
      "cell_type": "code",
      "execution_count": 23,
      "metadata": {
        "colab": {
          "base_uri": "https://localhost:8080/",
          "height": 237
        },
        "id": "6STtqwYQ8KoV",
        "outputId": "2100a70a-c592-499e-8f21-81f118c08ba8"
      },
      "outputs": [
        {
          "data": {
            "text/html": [
              "<div>\n",
              "<style scoped>\n",
              "    .dataframe tbody tr th:only-of-type {\n",
              "        vertical-align: middle;\n",
              "    }\n",
              "\n",
              "    .dataframe tbody tr th {\n",
              "        vertical-align: top;\n",
              "    }\n",
              "\n",
              "    .dataframe thead th {\n",
              "        text-align: right;\n",
              "    }\n",
              "</style>\n",
              "<table border=\"1\" class=\"dataframe\">\n",
              "  <thead>\n",
              "    <tr style=\"text-align: right;\">\n",
              "      <th></th>\n",
              "      <th>gdp</th>\n",
              "      <th>population</th>\n",
              "      <th>electricity_generation</th>\n",
              "    </tr>\n",
              "    <tr>\n",
              "      <th>country</th>\n",
              "      <th></th>\n",
              "      <th></th>\n",
              "      <th></th>\n",
              "    </tr>\n",
              "  </thead>\n",
              "  <tbody>\n",
              "    <tr>\n",
              "      <th>Afghanistan</th>\n",
              "      <td>7.308571e+10</td>\n",
              "      <td>41128772.0</td>\n",
              "      <td>1.26</td>\n",
              "    </tr>\n",
              "    <tr>\n",
              "      <th>Albania</th>\n",
              "      <td>3.617101e+10</td>\n",
              "      <td>3303738.0</td>\n",
              "      <td>8.96</td>\n",
              "    </tr>\n",
              "    <tr>\n",
              "      <th>Algeria</th>\n",
              "      <td>5.958200e+11</td>\n",
              "      <td>45606480.0</td>\n",
              "      <td>88.18</td>\n",
              "    </tr>\n",
              "    <tr>\n",
              "      <th>Angola</th>\n",
              "      <td>1.693340e+11</td>\n",
              "      <td>36684212.0</td>\n",
              "      <td>16.94</td>\n",
              "    </tr>\n",
              "    <tr>\n",
              "      <th>Argentina</th>\n",
              "      <td>8.561421e+11</td>\n",
              "      <td>45773888.0</td>\n",
              "      <td>153.43</td>\n",
              "    </tr>\n",
              "  </tbody>\n",
              "</table>\n",
              "</div>"
            ],
            "text/plain": [
              "                      gdp  population  electricity_generation\n",
              "country                                                      \n",
              "Afghanistan  7.308571e+10  41128772.0                    1.26\n",
              "Albania      3.617101e+10   3303738.0                    8.96\n",
              "Algeria      5.958200e+11  45606480.0                   88.18\n",
              "Angola       1.693340e+11  36684212.0                   16.94\n",
              "Argentina    8.561421e+11  45773888.0                  153.43"
            ]
          },
          "execution_count": 23,
          "metadata": {},
          "output_type": "execute_result"
        }
      ],
      "source": [
        "country_data = data.groupby('country')[columns_to_keep].max().dropna()\n",
        "country_data.head()"
      ]
    },
    {
      "cell_type": "markdown",
      "metadata": {
        "id": "3A8GxGVi8tMb"
      },
      "source": [
        "Looks good!\n",
        "\n",
        "Now, let's add the columns with data that we are searching for. The operation is very simple as we cleaned the data and all the necessary inputs are already in the data frame.  \n",
        "\n",
        "Let's add a `'gdp_per_capita'` column by dividing the `'gdp'` and the `'popluation'` columns and the 'electricity_per_capita' column by dividing `'electricity_generation'` and `'population'` columns. Again, we call `country_data.head()` to control our output."
      ]
    },
    {
      "cell_type": "code",
      "execution_count": 24,
      "metadata": {
        "colab": {
          "base_uri": "https://localhost:8080/",
          "height": 237
        },
        "id": "mwYu0oFm9izP",
        "outputId": "54e8ab8c-551c-48c8-c9e4-26a458011947"
      },
      "outputs": [
        {
          "data": {
            "text/html": [
              "<div>\n",
              "<style scoped>\n",
              "    .dataframe tbody tr th:only-of-type {\n",
              "        vertical-align: middle;\n",
              "    }\n",
              "\n",
              "    .dataframe tbody tr th {\n",
              "        vertical-align: top;\n",
              "    }\n",
              "\n",
              "    .dataframe thead th {\n",
              "        text-align: right;\n",
              "    }\n",
              "</style>\n",
              "<table border=\"1\" class=\"dataframe\">\n",
              "  <thead>\n",
              "    <tr style=\"text-align: right;\">\n",
              "      <th></th>\n",
              "      <th>gdp</th>\n",
              "      <th>population</th>\n",
              "      <th>electricity_generation</th>\n",
              "      <th>gdp_per_capita</th>\n",
              "      <th>electricity_per_capita</th>\n",
              "    </tr>\n",
              "    <tr>\n",
              "      <th>country</th>\n",
              "      <th></th>\n",
              "      <th></th>\n",
              "      <th></th>\n",
              "      <th></th>\n",
              "      <th></th>\n",
              "    </tr>\n",
              "  </thead>\n",
              "  <tbody>\n",
              "    <tr>\n",
              "      <th>Afghanistan</th>\n",
              "      <td>7.308571e+10</td>\n",
              "      <td>41128772.0</td>\n",
              "      <td>1.26</td>\n",
              "      <td>1776.997043</td>\n",
              "      <td>3.063549e-08</td>\n",
              "    </tr>\n",
              "    <tr>\n",
              "      <th>Albania</th>\n",
              "      <td>3.617101e+10</td>\n",
              "      <td>3303738.0</td>\n",
              "      <td>8.96</td>\n",
              "      <td>10948.509220</td>\n",
              "      <td>2.712079e-06</td>\n",
              "    </tr>\n",
              "    <tr>\n",
              "      <th>Algeria</th>\n",
              "      <td>5.958200e+11</td>\n",
              "      <td>45606480.0</td>\n",
              "      <td>88.18</td>\n",
              "      <td>13064.371986</td>\n",
              "      <td>1.933497e-06</td>\n",
              "    </tr>\n",
              "    <tr>\n",
              "      <th>Angola</th>\n",
              "      <td>1.693340e+11</td>\n",
              "      <td>36684212.0</td>\n",
              "      <td>16.94</td>\n",
              "      <td>4615.990693</td>\n",
              "      <td>4.617790e-07</td>\n",
              "    </tr>\n",
              "    <tr>\n",
              "      <th>Argentina</th>\n",
              "      <td>8.561421e+11</td>\n",
              "      <td>45773888.0</td>\n",
              "      <td>153.43</td>\n",
              "      <td>18703.722937</td>\n",
              "      <td>3.351911e-06</td>\n",
              "    </tr>\n",
              "  </tbody>\n",
              "</table>\n",
              "</div>"
            ],
            "text/plain": [
              "                      gdp  population  electricity_generation  gdp_per_capita  \\\n",
              "country                                                                         \n",
              "Afghanistan  7.308571e+10  41128772.0                    1.26     1776.997043   \n",
              "Albania      3.617101e+10   3303738.0                    8.96    10948.509220   \n",
              "Algeria      5.958200e+11  45606480.0                   88.18    13064.371986   \n",
              "Angola       1.693340e+11  36684212.0                   16.94     4615.990693   \n",
              "Argentina    8.561421e+11  45773888.0                  153.43    18703.722937   \n",
              "\n",
              "             electricity_per_capita  \n",
              "country                              \n",
              "Afghanistan            3.063549e-08  \n",
              "Albania                2.712079e-06  \n",
              "Algeria                1.933497e-06  \n",
              "Angola                 4.617790e-07  \n",
              "Argentina              3.351911e-06  "
            ]
          },
          "execution_count": 24,
          "metadata": {},
          "output_type": "execute_result"
        }
      ],
      "source": [
        "country_data['gdp_per_capita'] = country_data['gdp'] / country_data['population']\n",
        "country_data['electricity_per_capita'] = country_data['electricity_generation'] / country_data['population']\n",
        "\n",
        "country_data.head()"
      ]
    },
    {
      "cell_type": "markdown",
      "metadata": {
        "id": "vWpjJ3nFyrqK"
      },
      "source": [
        "Perfetto!\n",
        "\n",
        "As a final step we can **sort** the data frame to have the countries with the highest GDP per capita at the top. We can do it using `.sort_values()` method\n",
        "\n",
        "> **NB** `.sort_values()` method takes a few arguments to run properly. The `by` argument specifies the sorting key, `ascending` informs the order of sorting. Moreover, we can use the (already known) `inplace` argument to save the dataframe on top of the old one."
      ]
    },
    {
      "cell_type": "code",
      "execution_count": 25,
      "metadata": {
        "colab": {
          "base_uri": "https://localhost:8080/",
          "height": 455
        },
        "id": "83gCIDg2X4XP",
        "outputId": "05ad8381-6858-48e2-a456-741d92ad8624"
      },
      "outputs": [
        {
          "data": {
            "text/html": [
              "<div>\n",
              "<style scoped>\n",
              "    .dataframe tbody tr th:only-of-type {\n",
              "        vertical-align: middle;\n",
              "    }\n",
              "\n",
              "    .dataframe tbody tr th {\n",
              "        vertical-align: top;\n",
              "    }\n",
              "\n",
              "    .dataframe thead th {\n",
              "        text-align: right;\n",
              "    }\n",
              "</style>\n",
              "<table border=\"1\" class=\"dataframe\">\n",
              "  <thead>\n",
              "    <tr style=\"text-align: right;\">\n",
              "      <th></th>\n",
              "      <th>gdp</th>\n",
              "      <th>population</th>\n",
              "      <th>electricity_generation</th>\n",
              "      <th>gdp_per_capita</th>\n",
              "      <th>electricity_per_capita</th>\n",
              "    </tr>\n",
              "    <tr>\n",
              "      <th>country</th>\n",
              "      <th></th>\n",
              "      <th></th>\n",
              "      <th></th>\n",
              "      <th></th>\n",
              "      <th></th>\n",
              "    </tr>\n",
              "  </thead>\n",
              "  <tbody>\n",
              "    <tr>\n",
              "      <th>Qatar</th>\n",
              "      <td>3.817781e+11</td>\n",
              "      <td>2807242.0</td>\n",
              "      <td>54.390</td>\n",
              "      <td>135997.573499</td>\n",
              "      <td>1.937489e-05</td>\n",
              "    </tr>\n",
              "    <tr>\n",
              "      <th>Norway</th>\n",
              "      <td>4.823284e+11</td>\n",
              "      <td>5474363.0</td>\n",
              "      <td>157.130</td>\n",
              "      <td>88106.770583</td>\n",
              "      <td>2.870288e-05</td>\n",
              "    </tr>\n",
              "    <tr>\n",
              "      <th>United Arab Emirates</th>\n",
              "      <td>7.797015e+11</td>\n",
              "      <td>9516871.0</td>\n",
              "      <td>165.043</td>\n",
              "      <td>81928.347914</td>\n",
              "      <td>1.734215e-05</td>\n",
              "    </tr>\n",
              "    <tr>\n",
              "      <th>Singapore</th>\n",
              "      <td>4.618011e+11</td>\n",
              "      <td>6014725.0</td>\n",
              "      <td>57.330</td>\n",
              "      <td>76778.427598</td>\n",
              "      <td>9.531608e-06</td>\n",
              "    </tr>\n",
              "    <tr>\n",
              "      <th>Switzerland</th>\n",
              "      <td>5.593850e+11</td>\n",
              "      <td>8796671.0</td>\n",
              "      <td>71.050</td>\n",
              "      <td>63590.527920</td>\n",
              "      <td>8.076919e-06</td>\n",
              "    </tr>\n",
              "    <tr>\n",
              "      <th>...</th>\n",
              "      <td>...</td>\n",
              "      <td>...</td>\n",
              "      <td>...</td>\n",
              "      <td>...</td>\n",
              "      <td>...</td>\n",
              "    </tr>\n",
              "    <tr>\n",
              "      <th>Niger</th>\n",
              "      <td>2.477676e+10</td>\n",
              "      <td>26207982.0</td>\n",
              "      <td>0.790</td>\n",
              "      <td>945.389660</td>\n",
              "      <td>3.014349e-08</td>\n",
              "    </tr>\n",
              "    <tr>\n",
              "      <th>Mozambique</th>\n",
              "      <td>3.144173e+10</td>\n",
              "      <td>33897356.0</td>\n",
              "      <td>19.020</td>\n",
              "      <td>927.556870</td>\n",
              "      <td>5.611057e-07</td>\n",
              "    </tr>\n",
              "    <tr>\n",
              "      <th>Democratic Republic of Congo</th>\n",
              "      <td>9.131499e+10</td>\n",
              "      <td>102262808.0</td>\n",
              "      <td>11.960</td>\n",
              "      <td>892.944256</td>\n",
              "      <td>1.169536e-07</td>\n",
              "    </tr>\n",
              "    <tr>\n",
              "      <th>Central African Republic</th>\n",
              "      <td>4.632212e+09</td>\n",
              "      <td>5579148.0</td>\n",
              "      <td>0.180</td>\n",
              "      <td>830.272287</td>\n",
              "      <td>3.226299e-08</td>\n",
              "    </tr>\n",
              "    <tr>\n",
              "      <th>Burundi</th>\n",
              "      <td>9.177077e+09</td>\n",
              "      <td>12889583.0</td>\n",
              "      <td>0.360</td>\n",
              "      <td>711.976232</td>\n",
              "      <td>2.792953e-08</td>\n",
              "    </tr>\n",
              "  </tbody>\n",
              "</table>\n",
              "<p>166 rows × 5 columns</p>\n",
              "</div>"
            ],
            "text/plain": [
              "                                       gdp   population  \\\n",
              "country                                                   \n",
              "Qatar                         3.817781e+11    2807242.0   \n",
              "Norway                        4.823284e+11    5474363.0   \n",
              "United Arab Emirates          7.797015e+11    9516871.0   \n",
              "Singapore                     4.618011e+11    6014725.0   \n",
              "Switzerland                   5.593850e+11    8796671.0   \n",
              "...                                    ...          ...   \n",
              "Niger                         2.477676e+10   26207982.0   \n",
              "Mozambique                    3.144173e+10   33897356.0   \n",
              "Democratic Republic of Congo  9.131499e+10  102262808.0   \n",
              "Central African Republic      4.632212e+09    5579148.0   \n",
              "Burundi                       9.177077e+09   12889583.0   \n",
              "\n",
              "                              electricity_generation  gdp_per_capita  \\\n",
              "country                                                                \n",
              "Qatar                                         54.390   135997.573499   \n",
              "Norway                                       157.130    88106.770583   \n",
              "United Arab Emirates                         165.043    81928.347914   \n",
              "Singapore                                     57.330    76778.427598   \n",
              "Switzerland                                   71.050    63590.527920   \n",
              "...                                              ...             ...   \n",
              "Niger                                          0.790      945.389660   \n",
              "Mozambique                                    19.020      927.556870   \n",
              "Democratic Republic of Congo                  11.960      892.944256   \n",
              "Central African Republic                       0.180      830.272287   \n",
              "Burundi                                        0.360      711.976232   \n",
              "\n",
              "                              electricity_per_capita  \n",
              "country                                               \n",
              "Qatar                                   1.937489e-05  \n",
              "Norway                                  2.870288e-05  \n",
              "United Arab Emirates                    1.734215e-05  \n",
              "Singapore                               9.531608e-06  \n",
              "Switzerland                             8.076919e-06  \n",
              "...                                              ...  \n",
              "Niger                                   3.014349e-08  \n",
              "Mozambique                              5.611057e-07  \n",
              "Democratic Republic of Congo            1.169536e-07  \n",
              "Central African Republic                3.226299e-08  \n",
              "Burundi                                 2.792953e-08  \n",
              "\n",
              "[166 rows x 5 columns]"
            ]
          },
          "execution_count": 25,
          "metadata": {},
          "output_type": "execute_result"
        }
      ],
      "source": [
        "country_data.sort_values(by='gdp_per_capita', ascending=False)"
      ]
    },
    {
      "cell_type": "markdown",
      "metadata": {
        "id": "ux2zxJwj_m5U"
      },
      "source": [
        "And this covers the majority of basic operations we can do with `pandas`.\n",
        "\n",
        "Let's try to plot our data frames!"
      ]
    },
    {
      "cell_type": "markdown",
      "metadata": {
        "id": "g59ieNV5J94Y"
      },
      "source": [
        "## Plotting basics with matplotlib\n",
        "\n",
        "<img src=\"https://github.com/maciej-sakwa/AI_in_energy_course/blob/main/images/matplotlib.svg?raw=true\" width=\"800\">\n",
        "\n",
        "<img src=\"https://github.com/maciej-sakwa/AI_in_energy_course/blob/main/images/matplotlib_graphs.png?raw=true\" width=\"800\">\n",
        "\n"
      ]
    },
    {
      "cell_type": "markdown",
      "metadata": {
        "id": "FCqWAX3iL9MZ"
      },
      "source": [
        "### What is `matplotlib`?\n",
        "\n",
        "`matplotlib` package together with its submodue `pyplot` present us with a conveniant way to do quick and simple plots of the data. Compared to other, more robust packages such as `seaborn` or `plotly` the syntax is very simple. However, with `matplotlib` it might be tricky to make the plots _visually attractive_. However, it is perfect for providing fast visual analysis of our data.\n",
        "\n",
        "Let's verify the installation of `matplotlib`, and import it in our environment. As we are interested specifically in the `pyplot` submodule, we have to call `matplotlib.pyplot`. The common abbreviation for the submodule is `plt`."
      ]
    },
    {
      "cell_type": "code",
      "execution_count": 26,
      "metadata": {
        "colab": {
          "base_uri": "https://localhost:8080/"
        },
        "id": "BxEGYqZrMbYF",
        "outputId": "66ace3ec-115b-4dfa-8ff5-77457d03aab2"
      },
      "outputs": [
        {
          "name": "stdout",
          "output_type": "stream",
          "text": [
            "Requirement already satisfied: matplotlib in c:\\users\\macie\\.conda\\envs\\test_env\\lib\\site-packages (3.8.2)\n",
            "Requirement already satisfied: contourpy>=1.0.1 in c:\\users\\macie\\.conda\\envs\\test_env\\lib\\site-packages (from matplotlib) (1.2.0)\n",
            "Requirement already satisfied: cycler>=0.10 in c:\\users\\macie\\.conda\\envs\\test_env\\lib\\site-packages (from matplotlib) (0.12.1)\n",
            "Requirement already satisfied: fonttools>=4.22.0 in c:\\users\\macie\\.conda\\envs\\test_env\\lib\\site-packages (from matplotlib) (4.47.2)\n",
            "Requirement already satisfied: kiwisolver>=1.3.1 in c:\\users\\macie\\.conda\\envs\\test_env\\lib\\site-packages (from matplotlib) (1.4.5)\n",
            "Requirement already satisfied: numpy<2,>=1.21 in c:\\users\\macie\\.conda\\envs\\test_env\\lib\\site-packages (from matplotlib) (1.23.5)\n",
            "Requirement already satisfied: packaging>=20.0 in c:\\users\\macie\\.conda\\envs\\test_env\\lib\\site-packages (from matplotlib) (23.2)\n",
            "Requirement already satisfied: pillow>=8 in c:\\users\\macie\\.conda\\envs\\test_env\\lib\\site-packages (from matplotlib) (10.2.0)\n",
            "Requirement already satisfied: pyparsing>=2.3.1 in c:\\users\\macie\\.conda\\envs\\test_env\\lib\\site-packages (from matplotlib) (3.1.1)\n",
            "Requirement already satisfied: python-dateutil>=2.7 in c:\\users\\macie\\.conda\\envs\\test_env\\lib\\site-packages (from matplotlib) (2.8.2)\n",
            "Requirement already satisfied: six>=1.5 in c:\\users\\macie\\.conda\\envs\\test_env\\lib\\site-packages (from python-dateutil>=2.7->matplotlib) (1.16.0)\n"
          ]
        }
      ],
      "source": [
        "!pip install matplotlib"
      ]
    },
    {
      "cell_type": "code",
      "execution_count": 27,
      "metadata": {
        "id": "InIrmLdAMfSn"
      },
      "outputs": [],
      "source": [
        "import matplotlib.pyplot as plt"
      ]
    },
    {
      "cell_type": "markdown",
      "metadata": {
        "id": "kyWM_xpCJSu3"
      },
      "source": [
        "### Basic plotting with `matplotlib`\n",
        "\n",
        "The first thing we can do is draw a line.\n",
        "\n",
        "Let's see how the electricity generation in Italy changed along the years. To do that we can use a `pyplot` `plt.plot()` function with data from our `data_italy` data frame.\n",
        "\n",
        "The function needs only _y_ values to work, but we can also give it _x_ values to look better.\n"
      ]
    },
    {
      "cell_type": "code",
      "execution_count": 28,
      "metadata": {
        "colab": {
          "base_uri": "https://localhost:8080/",
          "height": 430
        },
        "id": "kyPY3jpILClR",
        "outputId": "066612f2-0797-477c-9dd3-09ad1801eba8"
      },
      "outputs": [
        {
          "data": {
            "image/png": "[encoded data removed]",
            "text/plain": [
              "<Figure size 640x480 with 1 Axes>"
            ]
          },
          "metadata": {},
          "output_type": "display_data"
        }
      ],
      "source": [
        "# Definition of variables\n",
        "xs = data_italy['year']\n",
        "ys = data_italy['electricity_generation']\n",
        "\n",
        "# Plot calls\n",
        "plt.plot(xs, ys)\n",
        "\n",
        "plt.show()"
      ]
    },
    {
      "cell_type": "markdown",
      "metadata": {
        "id": "Ei99_IsxLICE"
      },
      "source": [
        "We also put a `plt.show()` function at the end of the cell to show the plot as an output of the cell.\n",
        "\n",
        "As we are all engineers, we know that no plot is good without labels and title. Let's add them:"
      ]
    },
    {
      "cell_type": "code",
      "execution_count": 29,
      "metadata": {
        "colab": {
          "base_uri": "https://localhost:8080/",
          "height": 216
        },
        "id": "MMdYNLu1LHQh",
        "outputId": "e711bf83-47a7-4d3e-ff39-6803868f745c"
      },
      "outputs": [
        {
          "data": {
            "image/png": "[encoded data removed]",
            "text/plain": [
              "<Figure size 640x480 with 1 Axes>"
            ]
          },
          "metadata": {},
          "output_type": "display_data"
        }
      ],
      "source": [
        "# Definition of variables\n",
        "xs = data_italy['year']\n",
        "ys = data_italy['electricity_generation']\n",
        "\n",
        "# Plot calls\n",
        "plt.plot(xs, ys)\n",
        "\n",
        "# Plot tidying\n",
        "plt.xlabel('Year')\n",
        "plt.ylabel('Electricity generation (TWh)')\n",
        "plt.title('Electricity generation in Italy')\n",
        "\n",
        "plt.show()"
      ]
    },
    {
      "cell_type": "markdown",
      "metadata": {},
      "source": [
        "In fact, `pandas` library is highly integrated with `matplotlib`. It is quite easy to get the same plot with `pandas` methods.\n",
        "\n",
        "However, I feel that the `matplotlib` syntax allows me for more cutomization. "
      ]
    },
    {
      "cell_type": "code",
      "execution_count": 30,
      "metadata": {
        "colab": {
          "base_uri": "https://localhost:8080/",
          "height": 472
        },
        "id": "-qNUQZinLfyW",
        "outputId": "0ab664b9-d9f5-4aa6-a225-31a9af1e5ad6"
      },
      "outputs": [
        {
          "data": {
            "image/png": "[encoded data removed]",
            "text/plain": [
              "<Figure size 640x480 with 1 Axes>"
            ]
          },
          "metadata": {},
          "output_type": "display_data"
        }
      ],
      "source": [
        "data_italy.plot(x='year',\n",
        "           y='electricity_generation',\n",
        "           title='Electricity generation in Italy',\n",
        "           xlabel='Year',\n",
        "           ylabel='Electricity generation (TWh)',\n",
        "           legend=False\n",
        "           );"
      ]
    },
    {
      "cell_type": "markdown",
      "metadata": {
        "id": "rnOUzNOhNeOr"
      },
      "source": [
        "We can put multiple lines at the same plot. Let's compare Italy with the best country in the world:"
      ]
    },
    {
      "cell_type": "code",
      "execution_count": 31,
      "metadata": {
        "id": "ClY0luiyL7Ls"
      },
      "outputs": [],
      "source": [
        "data_poland = get_country_df(data, 'Poland') # The function replicates the transformations done with Italy"
      ]
    },
    {
      "cell_type": "code",
      "execution_count": 32,
      "metadata": {
        "colab": {
          "base_uri": "https://localhost:8080/",
          "height": 472
        },
        "id": "zjZl8U-sNc3L",
        "outputId": "c5fa97d9-3e1c-4478-a657-b7d30448b1a8"
      },
      "outputs": [
        {
          "data": {
            "image/png": "[encoded data removed]",
            "text/plain": [
              "<Figure size 640x480 with 1 Axes>"
            ]
          },
          "metadata": {},
          "output_type": "display_data"
        }
      ],
      "source": [
        "# Definition of variables\n",
        "xs_italy = data_italy['year']\n",
        "ys_italy = data_italy['electricity_generation']\n",
        "\n",
        "xs_poland = data_poland['year']\n",
        "ys_poland = data_poland['electricity_generation']\n",
        "\n",
        "# Plot calls\n",
        "plt.plot(xs_italy, ys_italy, label='Italy')     # we add 'label' to put on the legend\n",
        "plt.plot(xs_poland, ys_poland, label='Poland')  # we add 'label' to put on the legend\n",
        "\n",
        "# Plot tidying\n",
        "plt.xlabel('Year')\n",
        "plt.ylabel('Electricity generation (TWh)')\n",
        "plt.title('Electricity generation in Italy and Poland')\n",
        "plt.legend()\n",
        "\n",
        "plt.show()"
      ]
    },
    {
      "cell_type": "markdown",
      "metadata": {
        "id": "KMdlLjaSOVWF"
      },
      "source": [
        "Very nice!\n",
        "\n",
        "However, the scale of the plot, puts Poland in a fairly bad light. The y-values should start at 0!\n",
        "\n",
        "We can also add the gridlines to improve readability."
      ]
    },
    {
      "cell_type": "code",
      "execution_count": 33,
      "metadata": {
        "colab": {
          "base_uri": "https://localhost:8080/",
          "height": 216
        },
        "id": "P3WKhhz0OgjX",
        "outputId": "dca4a799-10ef-4c8d-9ae2-e7b4ca5de632"
      },
      "outputs": [
        {
          "data": {
            "image/png": "[encoded data removed]",
            "text/plain": [
              "<Figure size 640x480 with 1 Axes>"
            ]
          },
          "metadata": {},
          "output_type": "display_data"
        }
      ],
      "source": [
        "# Definition of variables\n",
        "xs_italy = data_italy['year']\n",
        "ys_italy = data_italy['electricity_generation']\n",
        "\n",
        "xs_poland = data_poland['year']\n",
        "ys_poland = data_poland['electricity_generation']\n",
        "\n",
        "# Plot calls\n",
        "plt.plot(xs_italy, ys_italy, label='Italy', c='green')  # We can also specify the color of the line\n",
        "plt.plot(xs_poland, ys_poland, label='Poland', c='red')\n",
        "\n",
        "# Plot tidying\n",
        "plt.xlabel('Year')\n",
        "plt.ylabel('Electricity generation (TWh)')\n",
        "plt.title('Electricity generation in Italy and Poland')\n",
        "\n",
        "plt.ylim(0, 350)\n",
        "plt.grid(which='major', alpha = 0.5)\n",
        "\n",
        "plt.legend()\n",
        "\n",
        "plt.show()"
      ]
    },
    {
      "cell_type": "markdown",
      "metadata": {
        "id": "TfauinHzQW03"
      },
      "source": [
        "Much better now!\n",
        "\n",
        "With what you know, can you try to create a similar plot for GDP of Poland and Italy?\n",
        "\n",
        "You can try in the cell below. In reality you can copy most of the code."
      ]
    },
    {
      "cell_type": "code",
      "execution_count": null,
      "metadata": {
        "id": "G5e5qB5ZQ4CA"
      },
      "outputs": [],
      "source": []
    },
    {
      "cell_type": "markdown",
      "metadata": {
        "id": "5bYfivAtQqvP"
      },
      "source": [
        "If we want to put both variables at the same plot, the necessary code becomes a bit more coplex:\n"
      ]
    },
    {
      "cell_type": "code",
      "execution_count": 34,
      "metadata": {
        "colab": {
          "base_uri": "https://localhost:8080/",
          "height": 480
        },
        "id": "zo6dSJvTQMSk",
        "outputId": "5d3aa2ec-904c-4297-91e1-3cd2f41d45b2"
      },
      "outputs": [
        {
          "data": {
            "image/png": "[encoded data removed]",
            "text/plain": [
              "<Figure size 1000x500 with 2 Axes>"
            ]
          },
          "metadata": {},
          "output_type": "display_data"
        }
      ],
      "source": [
        "fig, ax = plt.subplots(figsize=(10, 5))\n",
        "\n",
        "xs_italy = data_italy['year']\n",
        "ys_elec_italy = data_italy.loc[:, 'electricity_generation']\n",
        "ys_gdp_italy = data_italy.loc[:, 'gdp']\n",
        "\n",
        "xs_poland = data_poland['year']\n",
        "ys_elec_poland = data_poland['electricity_generation']\n",
        "ys_gdp_poland = data_poland['gdp']\n",
        "\n",
        "ax.plot(xs_italy, ys_elec_italy, label='Italy electricity generation', c='green')\n",
        "ax.plot(xs_poland, ys_elec_poland, label='Poland electricity generation', c='red')\n",
        "\n",
        "ax.set_xlabel('Year')\n",
        "ax.set_ylabel('Electricity generation (TWh)')\n",
        "ax.set_ylim(0, 350)\n",
        "ax.grid(which='major', alpha = 0.5)\n",
        "\n",
        "ax_due = ax.twinx()\n",
        "ax_due.plot(xs_italy, ys_gdp_italy, label='Italy GDP', c='green', linestyle='--')\n",
        "ax_due.plot(xs_poland, ys_gdp_poland, label='Poland GDP', c='red', linestyle='--')\n",
        "ax_due.set_ylabel('GDP (trilion USD)')\n",
        "ax_due.set_ylim(0, 3.5e12)\n",
        "\n",
        "ax.legend(loc='upper left')\n",
        "ax_due.legend(loc='upper right')\n",
        "\n",
        "plt.show()"
      ]
    },
    {
      "cell_type": "markdown",
      "metadata": {
        "id": "Kxrj3nNtZ5st"
      },
      "source": [
        "### Plot examples\n",
        "\n",
        "Other simple plots that we can draw using matplotlib include:\n",
        "1. Scatter plots\n",
        "2. Bar plots\n",
        "3. Histograms\n",
        "4. Heat map\n",
        "5. Box plot\n",
        "\n",
        "Following code will demonstrate some examples of these plots. You don't have to understand the entirety of the code yet."
      ]
    },
    {
      "cell_type": "markdown",
      "metadata": {},
      "source": [
        "**1. Scatter plot**"
      ]
    },
    {
      "cell_type": "code",
      "execution_count": 35,
      "metadata": {},
      "outputs": [
        {
          "data": {
            "image/png": "[encoded data removed]",
            "text/plain": [
              "<Figure size 640x480 with 1 Axes>"
            ]
          },
          "metadata": {},
          "output_type": "display_data"
        }
      ],
      "source": [
        "# List the countries\n",
        "european_countries = ['Italy', 'Germany', 'United Kingdom', 'France', 'Spain', 'Poland']\n",
        "\n",
        "# Loop through the chosen countries, select data and plot\n",
        "for country in european_countries:\n",
        "    \n",
        "    data_country = get_country_df(data, country)\n",
        "    xs = data_country['gdp']\n",
        "    ys = data_country['electricity_generation']\n",
        "\n",
        "    plt.scatter(x = xs, y = ys, label = country)\n",
        "\n",
        "# Plot tidying\n",
        "plt.title('Electricity generation vs. GDP of European countries')\n",
        "plt.ylabel('Electricity Generation [TWh]')\n",
        "plt.xlabel('GDP [trillion USD]')\n",
        "plt.grid(which='major', alpha = 0.5)\n",
        "\n",
        "plt.legend()\n",
        "plt.show()"
      ]
    },
    {
      "cell_type": "markdown",
      "metadata": {},
      "source": [
        "**3. Bar plot** "
      ]
    },
    {
      "cell_type": "code",
      "execution_count": 36,
      "metadata": {},
      "outputs": [
        {
          "data": {
            "image/png": "[encoded data removed]",
            "text/plain": [
              "<Figure size 640x480 with 1 Axes>"
            ]
          },
          "metadata": {},
          "output_type": "display_data"
        }
      ],
      "source": [
        "# List of countries and predeclare lists for holding values\n",
        "european_countries = ['Italy', 'Germany', 'United Kingdom', 'France', 'Spain', 'Poland']\n",
        "wind_share = []\n",
        "solar_share = []\n",
        "\n",
        "# Loop through countries and get the data (we filter for country and search for the newest value of solar and wind share)\n",
        "for country in european_countries:\n",
        "    wind_value = data[data['country'] == country]['wind_share_elec'].iloc[-1]\n",
        "    wind_share.append(wind_value)\n",
        "\n",
        "    solar_value = data[data['country'] == country]['solar_share_elec'].iloc[-1]\n",
        "    solar_share.append(solar_value)\n",
        "\n",
        "# Define xs and bar heights (the xs are just numbers from 0 to 5 +- half of the width of a bar)\n",
        "xs_wind = [i-0.2 for i in range(len(wind_share))]\n",
        "ys_wind = wind_share\n",
        "\n",
        "xs_solar = [i+0.2 for i in range(len(solar_share))]\n",
        "ys_solar = solar_share\n",
        "\n",
        "# Plot\n",
        "plt.bar(x=xs_wind, height=ys_wind, width=0.4, color='teal', label='Wind')\n",
        "plt.bar(x=xs_solar, height=ys_solar, width=0.4, color='orange', label='Solar')\n",
        "\n",
        "# Tidying up\n",
        "plt.title('Renewable share in electricity generation')\n",
        "plt.ylabel('Share [%]')\n",
        "plt.xlabel('Country')\n",
        "plt.xticks(range(len(wind_share)), european_countries, rotation=-45)\n",
        "plt.grid(which='major', alpha = 0.5)\n",
        "\n",
        "plt.legend()\n",
        "plt.show()"
      ]
    },
    {
      "cell_type": "markdown",
      "metadata": {},
      "source": [
        "**3. Histograms**"
      ]
    },
    {
      "cell_type": "code",
      "execution_count": 37,
      "metadata": {},
      "outputs": [
        {
          "data": {
            "image/png": "[encoded data removed]",
            "text/plain": [
              "<Figure size 640x480 with 1 Axes>"
            ]
          },
          "metadata": {},
          "output_type": "display_data"
        }
      ],
      "source": [
        "# Get data\n",
        "ys = data.groupby('country')['fossil_share_energy'].last().dropna()\n",
        "\n",
        "# Plot\n",
        "plt.hist(ys, bins=20, color='brown')\n",
        "\n",
        "plt.ylim(0, 20)\n",
        "plt.xlim(0, 100)\n",
        "\n",
        "# Tidying up\n",
        "plt.title('Fossil fuels in energy share histogram')\n",
        "plt.ylabel('Number of countries')\n",
        "plt.xlabel('Share [%]')\n",
        "plt.grid(which='major', alpha = 0.5)\n",
        "plt.yticks(range(0, 21, 5))\n",
        "\n",
        "plt.show()"
      ]
    },
    {
      "cell_type": "markdown",
      "metadata": {},
      "source": [
        "**4. Box plot**"
      ]
    },
    {
      "cell_type": "code",
      "execution_count": 38,
      "metadata": {},
      "outputs": [
        {
          "data": {
            "image/png": "[encoded data removed]",
            "text/plain": [
              "<Figure size 640x480 with 1 Axes>"
            ]
          },
          "metadata": {},
          "output_type": "display_data"
        }
      ],
      "source": [
        "# List countries\n",
        "european_countries = ['Italy', 'Germany', 'United Kingdom', 'France', 'Spain', 'Poland', 'Portugal', 'Netherlands', \n",
        "                      'Belgium','Luxembourg', 'Austria', 'Hungary', 'Norway', 'Sweden', 'Finland', 'Denmark', \n",
        "                      'Iceland', 'Ireland', 'Czechia', 'Slovakia', 'Slovenia', 'Croatia', 'Greece']\n",
        "\n",
        "\n",
        "fuels = ['Wind', 'Solar', 'Hydro']\n",
        "colors = ['teal', 'gold', 'lightblue']\n",
        "\n",
        "# Predeclaration of vars\n",
        "wind_share = []\n",
        "solar_share = []\n",
        "hydro_share = []\n",
        "\n",
        "# Getting data (the same operation as in the bar plot, simply more countries this time)\n",
        "for country in european_countries:\n",
        "\n",
        "    wind_value = data[data['country'] == country]['wind_share_elec'].iloc[-1]\n",
        "    wind_share.append(wind_value)\n",
        "\n",
        "    solar_value = data[data['country'] == country]['solar_share_elec'].iloc[-1]\n",
        "    solar_share.append(solar_value)\n",
        "\n",
        "    hydro_value = data[data['country'] == country]['hydro_share_elec'].iloc[-1]\n",
        "    hydro_share.append(hydro_value)\n",
        "    \n",
        "fuel_shares = [wind_share, solar_share, hydro_share]\n",
        "\n",
        "\n",
        "# Plotting\n",
        "bplot = plt.boxplot(fuel_shares, patch_artist=True, labels = fuels)\n",
        "for patch, color in zip(bplot['boxes'], colors):\n",
        "    patch.set_facecolor(color)\n",
        "\n",
        "# Tidying up\n",
        "plt.title('Shares of renewables in european electricity generation')\n",
        "plt.ylabel('Share [%]')\n",
        "plt.xlabel('Source')\n",
        "plt.grid(which='major', alpha = 0.5)\n",
        "\n",
        "plt.show()"
      ]
    },
    {
      "cell_type": "markdown",
      "metadata": {},
      "source": [
        "**5. Heat map**"
      ]
    },
    {
      "cell_type": "code",
      "execution_count": 39,
      "metadata": {},
      "outputs": [
        {
          "data": {
            "image/png": "[encoded data removed]",
            "text/plain": [
              "<Figure size 640x480 with 2 Axes>"
            ]
          },
          "metadata": {},
          "output_type": "display_data"
        }
      ],
      "source": [
        "# List countries\n",
        "european_countries = ['Italy', 'Germany', 'United Kingdom', 'France', 'Spain', 'Poland', 'Netherlands', 'Sweden']\n",
        "shares = ['coal_share_elec', 'gas_share_elec', 'oil_share_elec', 'nuclear_share_elec', \n",
        "          'biofuel_share_elec', 'wind_share_elec', 'solar_share_elec', 'hydro_share_elec']\n",
        "\n",
        "fuels = [item.split('_')[0].capitalize() for item in shares]\n",
        "\n",
        "# Predeclaration of vars\n",
        "shares_matrix = []\n",
        "\n",
        "# Getting data (the same operation as in the bar plot, simply more countries this time)\n",
        "for country in european_countries:\n",
        "    country_vaules = []\n",
        "\n",
        "    for share in shares:\n",
        "        vaule = data[data['country'] == country][share].iloc[-1]\n",
        "        country_vaules.append(vaule)\n",
        "    \n",
        "    shares_matrix.append(country_vaules)\n",
        "\n",
        "\n",
        "\n",
        "plt.imshow(shares_matrix)    \n",
        "\n",
        "for i in range(8):\n",
        "    for j in range(8):\n",
        "        text = plt.text(j, i, str(shares_matrix[i][j]).split('.')[0],\n",
        "                       ha=\"center\", va=\"center\", color=\"w\")\n",
        "\n",
        "plt.yticks(range(8), european_countries)\n",
        "plt.xticks(range(8), fuels, rotation=45, ha='right')\n",
        "plt.title('Shares [%] of electricity production in selected european countries')\n",
        "plt.colorbar()\n",
        "plt.show()\n"
      ]
    },
    {
      "cell_type": "markdown",
      "metadata": {},
      "source": [
        "## Q&A\n",
        "\n",
        "We reached the end of this session. \n",
        "Any questions?"
      ]
    }
  ],
  "metadata": {
    "colab": {
      "provenance": [],
      "toc_visible": true
    },
    "kernelspec": {
      "display_name": "test_env",
      "language": "python",
      "name": "python3"
    },
    "language_info": {
      "codemirror_mode": {
        "name": "ipython",
        "version": 3
      },
      "file_extension": ".py",
      "mimetype": "text/x-python",
      "name": "python",
      "nbconvert_exporter": "python",
      "pygments_lexer": "ipython3",
      "version": "3.11.0"
    }
  },
  "nbformat": 4,
  "nbformat_minor": 0
}
