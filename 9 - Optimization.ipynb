{
 "cells": [
  {
   "cell_type": "markdown",
   "metadata": {
    "id": "U8qd4FLYxE5K"
   },
   "source": [
    "# Optimization\n",
    "\n",
    "\n",
    "<img src=\"https://www.mrtfuelcell.polimi.it/images/logo_poli.jpg\" height=\"200\">"
   ]
  },
  {
   "cell_type": "markdown",
   "metadata": {
    "id": "xkfqghrxxE5M"
   },
   "source": [
    "**Basi Fondamentali del Machine Learning**\n",
    "\n",
    "Day 9 - 2024-11-28\n",
    "\n",
    "Michael Wood, Maciej Sakwa, Emanuele Ogliari"
   ]
  },
  {
   "cell_type": "markdown",
   "metadata": {
    "id": "FY49jaT6xE5N"
   },
   "source": [
    "![european starling murmuration](./images/murmuration.gif)\n",
    "\n",
    "_Particle swarm optimization is inspired by flocks of birds (here, European Starlings)_\n",
    "\n",
    "## Outline\n",
    "\n",
    "1. Basics of Optimization\n",
    "2. Types of Optimization\n",
    "3. **Example**: Travelling Salesman Problem\n",
    "4. **Application**: Battery Dispatch at Prezzo Unico Nazionale (PUN)\n",
    "\n",
    "\n",
    "\n",
    "\n",
    "## Learning objectives\n",
    "* See how time **optimization** fits into the machine learning project structure\n",
    "* Understand the basic principles of optimization\n",
    "\n",
    "\n",
    "---"
   ]
  },
  {
   "cell_type": "markdown",
   "metadata": {},
   "source": [
    "# Basics of Optimization\n",
    "\n",
    "![ackley function](./images/differential_evolution.gif)\n",
    "\n",
    "_Minimization, single objective, many local minima_\n",
    "\n",
    "- Definition\n",
    "- Objective function\n",
    "- Min vs max\n",
    "- Local vs global\n",
    "- Search space / constraints\n",
    "- Single vs multi objective"
   ]
  },
  {
   "cell_type": "markdown",
   "metadata": {},
   "source": [
    "---\n",
    "\n",
    "# Types of Optimization"
   ]
  },
  {
   "cell_type": "markdown",
   "metadata": {},
   "source": [
    "## Maximum Liklihood Estimator\n",
    "\n",
    "![interactive-regression](https://github.com/woodjmichael/Basi-Fondamentali-del-Machine-Learning/blob/main/images/interactive-regression.png?raw=true)\n",
    "\n",
    "- Data are yellow dots\n",
    "- The red line is the **best fit**\n",
    "  - Each red square is the _square of the error_ for each dot\n",
    "- The blue line is **not fit**\n",
    "  - Each blue square is the _square of the error_ for each dot\n",
    "\n",
    "\n",
    "\n",
    "\n",
    "\n",
    "\n"
   ]
  },
  {
   "cell_type": "markdown",
   "metadata": {},
   "source": [
    "## Maximum Likelihood Estimator\n",
    "\n",
    "### Bayes Theorem\n",
    "\n",
    "- Fundamental and powerful theorem in statistics\n",
    "- Main idea: we usually have \"prior\" knowledge about something before predicting/estimating\n",
    "- Goal is to *update* our belief with new information, not *replace* it\n",
    "\n",
    "\n",
    "Simple example\n",
    "- **Prior:** at the beach in Sardegna in August\n",
    "- **Likelihood:** phone weather app says snow tomorrow\n",
    "- **Posterior:** multiplication (union) of prior and likelihood\n",
    "- **Bayes says:** probably *not* going to snow tomorrow\n",
    "\n",
    "Bayes Theorem\n",
    "\n",
    "$$\n",
    "Posterior = \\frac{Likelihood\\ \\times Prior}{Evidence}\n",
    "$$\n",
    "\n",
    "\n",
    "Autonomous Driving Example\n",
    "\n",
    "\n",
    "<img src=\"https://github.com/woodjmichael/Basi-Fondamentali-del-Machine-Learning/blob/main/images/kalman.png?raw=True\" width=\"500\" height=\"auto\">\n",
    "\n",
    "\n",
    "Simplified math: $X_t^{opt} = X_t^{pred} Y_t$\n",
    "\n",
    "\n",
    "- All letters are probability distributions\n",
    "\n",
    "- Multiplying two probability distributions together is like finding the \"union\" of the two\n",
    "\n",
    "- $X_t^{pred}$ is next estimated car position\n",
    "\n",
    "- $Y$ is measured car position\n",
    "\n",
    "- $X_t^{opt}$ is optimal estimate of current car position\n",
    "\n",
    "\n",
    "\n",
    "Shortcut: product of two normal PDFs with only\n",
    "- mean $\\mu$, and\n",
    "- standard deviation $\\sigma$\n",
    "\n",
    "$$\n",
    "\\mu_{opt} = {\\mu_X \\sigma_Y^2 + \\mu_Y \\sigma_X^2 \\over \\sigma_X^2 + \\sigma_Y^2}, \\ \\ \\ \\  \\sigma_{opt} =  {\\sigma_X^2 \\sigma_Y^2 \\over \\sigma_X^2 + \\sigma_Y^2} \\\\\n",
    "$$"
   ]
  },
  {
   "cell_type": "markdown",
   "metadata": {},
   "source": [
    "## Linear programming"
   ]
  },
  {
   "cell_type": "markdown",
   "metadata": {},
   "source": [
    "## Genetic and Evolutionary Algorithms\n",
    "\n",
    "<img src=\"./images/wing.jpg\" width=\"500\" height=\"auto\">\n",
    "\n",
    "- Results can be surprising, even hard to believe"
   ]
  },
  {
   "cell_type": "markdown",
   "metadata": {},
   "source": [
    "---\n",
    "\n",
    "# Example: Travelling Salesman Problem\n",
    "\n",
    "- Visit every city once and return to the first city\n",
    "- \"NP Hard\" \n",
    "\n",
    "<img src=\"./images/travelling_salesman.gif\" width=\"500\" height=\"auto\">\n",
    "\n",
    "\n",
    "Try the web app by Todd Schneider [here](https://toddwschneider.com/posts/traveling-salesman-with-simulated-annealing-r-and-shiny/#salesman-app)"
   ]
  },
  {
   "cell_type": "markdown",
   "metadata": {},
   "source": [
    "---\n",
    "\n",
    "# Exampe: Vehicle Routing Problem\n",
    "\n",
    "- Similar to Travelling Salesman Problem\n",
    "- Deliver packages from circles to square\n",
    "- Vehicle has limited space, may need to return early to square\n",
    "\n",
    "<img src=\"./images/vehicle_routing_problem.gif\" width=\"500\" height=\"auto\">\n",
    "\n",
    "_From [Jumanji](https://instadeepai.github.io/jumanji/environments/cvrp/)_\n",
    "\n",
    "\n",
    "We'll solve a simple version using [HiGHs](https://towardsdatascience.com/the-vehicle-routing-problem-exact-and-heuristic-solutions-c411c0f4d734) and [Google OR-Tools](https://developers.google.com/optimization/routing/vrp)"
   ]
  },
  {
   "cell_type": "markdown",
   "metadata": {},
   "source": [
    "<image href=\"./images/travelling_salesman.gif\"></image>"
   ]
  },
  {
   "cell_type": "markdown",
   "metadata": {},
   "source": [
    "---\n",
    "\n",
    "# Application: Vehicle-to-Grid Dispatch\n",
    "\n",
    "[Luke Merrick](https://gist.github.com/lukemerrick/4e1f9921a19ec97f7b94990953c2e799)"
   ]
  }
 ],
 "metadata": {
  "colab": {
   "provenance": []
  },
  "kernelspec": {
   "display_name": "lstm_tools",
   "language": "python",
   "name": "python3"
  },
  "language_info": {
   "codemirror_mode": {
    "name": "ipython",
    "version": 3
   },
   "file_extension": ".py",
   "mimetype": "text/x-python",
   "name": "python",
   "nbconvert_exporter": "python",
   "pygments_lexer": "ipython3",
   "version": "3.12.3"
  }
 },
 "nbformat": 4,
 "nbformat_minor": 0
}
